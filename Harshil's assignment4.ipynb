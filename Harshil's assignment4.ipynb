{
  "cells": [
    {
      "cell_type": "markdown",
      "metadata": {
        "id": "view-in-github",
        "colab_type": "text"
      },
      "source": [
        "<a href=\"https://colab.research.google.com/github/Harshil1450/Harshil/blob/main/Harshil's%20assignment4.ipynb\" target=\"_parent\"><img src=\"https://colab.research.google.com/assets/colab-badge.svg\" alt=\"Open In Colab\"/></a>"
      ]
    },
    {
      "cell_type": "markdown",
      "metadata": {
        "id": "b59_GyfoSN_i"
      },
      "source": [
        "## **THEORY QUESTIONS**"
      ]
    },
    {
      "cell_type": "markdown",
      "metadata": {
        "id": "v2tFyF8z4422"
      },
      "source": [
        " **1. What is the difference between a function and a method in Python?**\n"
      ]
    },
    {
      "cell_type": "markdown",
      "metadata": {
        "id": "FNV1FITo38L6"
      },
      "source": [
        "In Python, the main difference between a function and a method is their context and how they are called:\n",
        "\n",
        "Function: A function is a block of code that performs a specific task and can be called independently.\n",
        "\n",
        "It is defined using the def keyword and is not associated with any object.\n",
        "\n",
        "Example of a function:"
      ]
    },
    {
      "cell_type": "code",
      "execution_count": null,
      "metadata": {
        "id": "oMwRTjQk4B5D"
      },
      "outputs": [],
      "source": [
        "def greet(name):\n",
        "    return f\"Hello, {name}!\"\n",
        "\n",
        "print(greet(\"Alice\"))  # Output: Hello, Alice!"
      ]
    },
    {
      "cell_type": "markdown",
      "metadata": {
        "id": "wRXcCjuz4CU2"
      },
      "source": [
        "Method is a function that is associated with an object.\n",
        "It is defined within a class and is called on an instance of that class.\n",
        "\n",
        "Methods are implicitly passed the instance (self) as their first argument.\n",
        "\n",
        "Example of a method:"
      ]
    },
    {
      "cell_type": "code",
      "execution_count": null,
      "metadata": {
        "id": "aHImF5PR4Crz"
      },
      "outputs": [],
      "source": [
        "class G:\n",
        "    def __init__(self, name):\n",
        "        self.name = name\n",
        "    def greet(self):\n",
        "        return f\"Hi, {self.name}!\"\n",
        "print(G(\"Akshu\").greet())\n"
      ]
    },
    {
      "cell_type": "markdown",
      "metadata": {
        "id": "am5le28u42I0"
      },
      "source": [
        "In summary:\n",
        "\n",
        "A function is standalone and not tied to any object.\n",
        "\n",
        "A method is tied to an object and operates on the data contained within that object."
      ]
    },
    {
      "cell_type": "markdown",
      "metadata": {
        "id": "6m2RdXPy5ahI"
      },
      "source": [
        "**2. Explain the concept of function arguments and parameters in Python.**"
      ]
    },
    {
      "cell_type": "markdown",
      "metadata": {
        "id": "cHed0drP5t7G"
      },
      "source": [
        "In Python, function parameters are the variables listed in the function definition, while function arguments are the values you pass to the function when you call it.\n",
        "\n",
        "Parameters act as placeholders in the function definition, and arguments are the actual values that are passed to the function when it is called."
      ]
    },
    {
      "cell_type": "code",
      "execution_count": null,
      "metadata": {
        "id": "qy7_u0w452pb"
      },
      "outputs": [],
      "source": [
        "def add(a, b):  # a & b (parameters)\n",
        "    return a + b\n",
        "\n",
        "result = add(5, 3)  # 5 & 3 (arguments)\n",
        "print(result)"
      ]
    },
    {
      "cell_type": "markdown",
      "metadata": {
        "id": "qXZsGUzH7eg9"
      },
      "source": [
        "**3. What are the different ways to define and call a function in Python?**"
      ]
    },
    {
      "cell_type": "markdown",
      "metadata": {
        "id": "8yuMuo8q7p0u"
      },
      "source": [
        "Standard Function Definition: Defines a named function with parameters and a body.\n",
        "Lambda Function: Creates an anonymous, one-line function.\n",
        "Partial Function: Uses functools.partial to fix some arguments of a function, creating a new function."
      ]
    },
    {
      "cell_type": "code",
      "execution_count": null,
      "metadata": {
        "id": "v5XPGdbu7pUK"
      },
      "outputs": [],
      "source": [
        "# Standard Function Definition\n",
        "def greet(name):\n",
        "    return f\"Hello, {name}!\"\n",
        "\n",
        "print(greet(\"Akshata\"))\n",
        "\n",
        "# Lambda Function\n",
        "add = lambda x, y: x + y\n",
        "\n",
        "print(add(5, 3))\n",
        "\n",
        "# Partial Function\n",
        "from functools import partial\n",
        "\n",
        "def power(base, exponent):\n",
        "    return base ** exponent\n",
        "\n",
        "square = partial(power, exponent=2)\n",
        "\n",
        "print(square(4))\n"
      ]
    },
    {
      "cell_type": "markdown",
      "metadata": {
        "id": "kVtGgHW3-Dix"
      },
      "source": [
        "**4. What is the purpose of the return statement in a Python function?**"
      ]
    },
    {
      "cell_type": "markdown",
      "metadata": {
        "id": "l-PAIHA5-ENQ"
      },
      "source": [
        "The return statement in a Python function is used to specify the value that the function should output when it finishes execution. It effectively ends the function's execution and sends the result back to the caller. If no return statement is used, or if it is omitted, the function returns None by default."
      ]
    },
    {
      "cell_type": "code",
      "execution_count": null,
      "metadata": {
        "id": "TcqPI5PF-THC"
      },
      "outputs": [],
      "source": [
        "def multiply(x, y):\n",
        "    result = x * y\n",
        "    return result  # returns result\n",
        "product = multiply(4, 5)\n",
        "print(product)\n"
      ]
    },
    {
      "cell_type": "markdown",
      "metadata": {
        "id": "1JgZluDnBsBZ"
      },
      "source": [
        "**5. What are iterators in Python and how do they differ from iterables?**"
      ]
    },
    {
      "cell_type": "markdown",
      "metadata": {
        "id": "gftNRr21-fR2"
      },
      "source": [
        "Iterators in Python have __iter__() and __next__() methods and keep track of their state to produce the next item.\n",
        "\n",
        "Iterables implement __iter__() and provide an iterator."
      ]
    },
    {
      "cell_type": "code",
      "execution_count": null,
      "metadata": {
        "id": "RSkcsnLLAm_j"
      },
      "outputs": [],
      "source": [
        "# Iterable\n",
        "numbers = [1, 2, 3]\n",
        "\n",
        "# Iterator\n",
        "iterator = iter(numbers)\n",
        "\n",
        "print(next(iterator))  # Outputs: 1\n",
        "print(next(iterator))  # Outputs: 2\n",
        "print(next(iterator))  # Outputs: 3\n"
      ]
    },
    {
      "cell_type": "markdown",
      "metadata": {
        "id": "WxKuo41VB33u"
      },
      "source": [
        "**6. Explain the concept of generators in Python and how they are defined.**"
      ]
    },
    {
      "cell_type": "markdown",
      "metadata": {
        "id": "JgKotSFkB9iq"
      },
      "source": [
        "Generators in Python are a type of iterator created with functions that use yield instead of return. They allow for producing values one at a time and maintain their state between yields, which makes them memory-efficient for large sequences.\n",
        "\n",
        "Definition:\n",
        "\n",
        "Use yield in a function to produce values.\n",
        "The function saves its state and resumes where it left off on subsequent calls.\n",
        "Example:"
      ]
    },
    {
      "cell_type": "code",
      "execution_count": null,
      "metadata": {
        "id": "hteWN6o-FKIC"
      },
      "outputs": [],
      "source": [
        "def count_up_to(max):\n",
        "    count = 1\n",
        "    while count <= max:\n",
        "        yield count\n",
        "        count += 1\n",
        "\n",
        "# Using the generator\n",
        "for number in count_up_to(5):\n",
        "    print(number)"
      ]
    },
    {
      "cell_type": "markdown",
      "metadata": {
        "id": "vWlppDtRFvII"
      },
      "source": [
        "**7. What are the advantages of using generators over regular functions?**"
      ]
    },
    {
      "cell_type": "markdown",
      "metadata": {
        "id": "9Gwsfd4xF06e"
      },
      "source": [
        "Generators provide several benefits over regular functions:\n",
        "\n",
        "Memory Efficiency: They generate values one at a time, avoiding the need to store the entire sequence in memory.\n",
        "Lazy Evaluation: They compute values on-the-fly, which can improve performance for large datasets or sequences.\n",
        "Simplified Iteration: They manage their own state and iteration, reducing complexity in code that needs to track state.\n",
        "Example:"
      ]
    },
    {
      "cell_type": "code",
      "execution_count": null,
      "metadata": {
        "id": "WPV_wxKcGL7m"
      },
      "outputs": [],
      "source": [
        "def large_range(max):\n",
        "    for i in range(max):\n",
        "        yield i\n",
        "\n",
        "# Generates values as needed, saving memory\n",
        "for num in large_range(1000000):\n",
        "    if num > 10:\n",
        "        break\n",
        "    print(num)"
      ]
    },
    {
      "cell_type": "markdown",
      "metadata": {
        "id": "NZVj11H_GlyL"
      },
      "source": [
        "**8. What is a lambda function in Python and when is it typically used?**"
      ]
    },
    {
      "cell_type": "markdown",
      "metadata": {
        "id": "yb10lQygGp-V"
      },
      "source": [
        "A lambda function in Python is a small, anonymous function defined using the lambda keyword. It can have any number of arguments but only a single expression, which is evaluated and returned.\n",
        "\n",
        "Usage:\n",
        "\n",
        "Short, Simple Functions: Ideal for functions that are used only once or a few times.\n",
        "Functional Programming: Commonly used with functions like map(), filter(), and sorted() where a small, throwaway function is needed.\n",
        "Example:"
      ]
    },
    {
      "cell_type": "code",
      "execution_count": null,
      "metadata": {
        "id": "-qL-9MQzGwJu"
      },
      "outputs": [],
      "source": [
        "# Lambda function to add two numbers\n",
        "add = lambda x, y: x + y\n",
        "\n",
        "print(add(3, 5))\n"
      ]
    },
    {
      "cell_type": "markdown",
      "metadata": {
        "id": "mRVId53XG27z"
      },
      "source": [
        "**9. Explain the purpose and usage of the map() function in Python.**"
      ]
    },
    {
      "cell_type": "markdown",
      "metadata": {
        "id": "YxbzYxJqG_QK"
      },
      "source": [
        "The map() function in Python applies a specified function to each item in an iterable and returns an iterator of the results. It's used to transform data efficiently.\n",
        "\n",
        "Usage:\n",
        "\n",
        "Syntax: map(function, iterable)\n",
        "Function: Applied to every element of the iterable.\n",
        "Example:"
      ]
    },
    {
      "cell_type": "code",
      "execution_count": null,
      "metadata": {
        "id": "8WxqSg69HITK"
      },
      "outputs": [],
      "source": [
        "# Function to double a number\n",
        "def double(x):\n",
        "    return x * 2\n",
        "\n",
        "# List of numbers\n",
        "numbers = [1, 2, 3, 4]\n",
        "\n",
        "# Apply 'double' function to each element\n",
        "doubled_numbers = map(double, numbers)\n",
        "\n",
        "print(list(doubled_numbers))"
      ]
    },
    {
      "cell_type": "markdown",
      "metadata": {
        "id": "n3G_b2TrHLtF"
      },
      "source": [
        "**10. What is the difference between map(), reduce(), and filter() functions in Python?**"
      ]
    },
    {
      "cell_type": "markdown",
      "metadata": {
        "id": "HIt6MWIQHTgL"
      },
      "source": [
        "1. map():\n",
        "\n",
        "Purpose: Applies a function to each item in an iterable.\n",
        "Example: map(lambda x: x * 2, [1, 2, 3]) results in [2, 4, 6].\n",
        "\n",
        "2. reduce():\n",
        "\n",
        "Purpose: Reduces items to a single value using a function (requires functools.reduce).\n",
        "Example: reduce(lambda x, y: x + y, [1, 2, 3]) results in 6.\n",
        "\n",
        "3. filter():\n",
        "\n",
        "Purpose: Filters items based on a condition function.\n",
        "Example: filter(lambda x: x > 1, [1, 2, 3]) results in [2, 3]."
      ]
    },
    {
      "cell_type": "code",
      "execution_count": null,
      "metadata": {
        "id": "ERRBzgemH4vB"
      },
      "outputs": [],
      "source": [
        "from functools import reduce\n",
        "\n",
        "numbers = [1, 2, 3, 4, 5]\n",
        "\n",
        "# Double each number\n",
        "doubled = map(lambda x: x * 2, numbers)  # [2, 4, 6, 8, 10]\n",
        "\n",
        "# Keep numbers greater than 5\n",
        "filtered = filter(lambda x: x > 5, doubled)  # [6, 8, 10]\n",
        "\n",
        "# Sum the filtered numbers\n",
        "result = reduce(lambda x, y: x + y, filtered)  # 24\n",
        "\n",
        "print(result)  # Outputs: 24\n"
      ]
    },
    {
      "cell_type": "markdown",
      "metadata": {
        "id": "xpuHrxQEIp6N"
      },
      "source": [
        "**11. Using pen & Paper write the internal mechanism for sum operation using  reduce function on this given**\n",
        "\n",
        "list:[47,11,42,13]"
      ]
    },
    {
      "cell_type": "markdown",
      "metadata": {
        "id": "EQCcYn8tvbTA"
      },
      "source": [
        "https://ibb.co/KNwvjsw\n",
        "\n",
        "https://ibb.co/SNNB3Nm\n",
        "\n",
        "Examples Given Below."
      ]
    },
    {
      "cell_type": "code",
      "execution_count": null,
      "metadata": {
        "colab": {
          "base_uri": "https://localhost:8080/"
        },
        "id": "Zw3Rs3UEt22c",
        "outputId": "e71b29b3-3276-4c2f-e6d6-2504de1ceacc"
      },
      "outputs": [
        {
          "name": "stdout",
          "output_type": "stream",
          "text": [
            "113\n"
          ]
        }
      ],
      "source": [
        "from functools import reduce\n",
        "\n",
        "numbers = [47, 11, 42, 13]\n",
        "\n",
        "sum_function = lambda x, y: x + y\n",
        "\n",
        "result = reduce(sum_function, numbers)\n",
        "\n",
        "print(result)\n"
      ]
    },
    {
      "cell_type": "markdown",
      "metadata": {
        "id": "fJnRyYC6R4g0"
      },
      "source": [
        "## **PRACTICAL QUESTIONS**"
      ]
    },
    {
      "cell_type": "markdown",
      "metadata": {
        "id": "PCBr2kRgSVrq"
      },
      "source": [
        "Write a Python function that takes a list of numbers as input and returns the sum of all even numbers in\n",
        "the list."
      ]
    },
    {
      "cell_type": "code",
      "execution_count": null,
      "metadata": {
        "colab": {
          "base_uri": "https://localhost:8080/"
        },
        "id": "23POzBKZSVNa",
        "outputId": "5b1eecf8-d135-431b-9697-2cb51508c2c4"
      },
      "outputs": [
        {
          "name": "stdout",
          "output_type": "stream",
          "text": [
            "30\n"
          ]
        }
      ],
      "source": [
        "def sum_of_even_numbers(numbers):\n",
        "    even_sum = 0\n",
        "    for num in numbers:\n",
        "        if num % 2 == 0:\n",
        "            even_sum += num\n",
        "    return even_sum\n",
        "\n",
        "numbers = [1, 2, 3, 4, 5, 6, 7, 8, 9, 10]\n",
        "result = sum_of_even_numbers(numbers)\n",
        "print(result)"
      ]
    },
    {
      "cell_type": "markdown",
      "metadata": {
        "id": "iymWf6zcSUra"
      },
      "source": [
        "Create a Python function that accepts a string and returns the reverse of that string."
      ]
    },
    {
      "cell_type": "code",
      "execution_count": null,
      "metadata": {
        "colab": {
          "base_uri": "https://localhost:8080/"
        },
        "id": "e1W2GQgEVdKy",
        "outputId": "249c743b-e739-437a-95d2-0a09a702f7d6"
      },
      "outputs": [
        {
          "name": "stdout",
          "output_type": "stream",
          "text": [
            "uhskA\n"
          ]
        }
      ],
      "source": [
        "def reverse_string(s):\n",
        "    reversed_str = \"\"\n",
        "    for char in s:\n",
        "        reversed_str = char + reversed_str\n",
        "    return reversed_str\n",
        "\n",
        "# we can test the function with a sample string\n",
        "result = reverse_string(\"HARSHIL\")\n",
        "print(result)\n"
      ]
    },
    {
      "cell_type": "markdown",
      "metadata": {
        "id": "y3vh-KOVWqri"
      },
      "source": [
        "Implement a Python function that takes a list of integers and returns a new list containing the squares of\n",
        "each number."
      ]
    },
    {
      "cell_type": "code",
      "execution_count": null,
      "metadata": {
        "colab": {
          "base_uri": "https://localhost:8080/"
        },
        "id": "atxCsPraWvMi",
        "outputId": "dbc64eaa-e454-4d1a-9fdb-18d144069b86"
      },
      "outputs": [
        {
          "name": "stdout",
          "output_type": "stream",
          "text": [
            "[1, 4, 9, 16, 25]\n"
          ]
        }
      ],
      "source": [
        "def square_numbers(numbers):\n",
        "    return [num ** 2 for num in numbers]\n",
        "\n",
        "# lets test the function with a sample list\n",
        "result = square_numbers([1, 2, 3, 4, 5,6,7])\n",
        "print(result)\n"
      ]
    },
    {
      "cell_type": "markdown",
      "metadata": {
        "id": "YxuCry6FW_ov"
      },
      "source": [
        "Write a Python function that checks if a given number is prime or not from 1 to 200."
      ]
    },
    {
      "cell_type": "code",
      "execution_count": null,
      "metadata": {
        "colab": {
          "base_uri": "https://localhost:8080/"
        },
        "id": "dFXGnYGRXJKq",
        "outputId": "975dce30-47de-4a99-ca2e-1d6613bf5d06"
      },
      "outputs": [
        {
          "name": "stdout",
          "output_type": "stream",
          "text": [
            "[2, 3, 5, 7, 11, 13, 17, 19, 23, 29, 31, 37, 41, 43, 47]\n"
          ]
        }
      ],
      "source": [
        "def is_prime(n):\n",
        "    if n <= 1:\n",
        "        return False\n",
        "    for i in range(2, int(n**0.5) + 1):\n",
        "        if n % i == 0:\n",
        "            return False\n",
        "    return True\n",
        "\n",
        "# let's test\n",
        "prime_numbers = [num for num in range(1, 51) if is_prime(num)]\n",
        "print(prime_numbers)\n"
      ]
    },
    {
      "cell_type": "markdown",
      "metadata": {
        "id": "uQS7_hU4XZkl"
      },
      "source": [
        " Create an iterator class in Python that generates the Fibonacci sequence up to a specified number of\n",
        "terms."
      ]
    },
    {
      "cell_type": "code",
      "execution_count": null,
      "metadata": {
        "colab": {
          "base_uri": "https://localhost:8080/"
        },
        "id": "_6QK_4TaXdUi",
        "outputId": "6d52cd4f-4f53-4dd6-8355-9d196eba14ea"
      },
      "outputs": [
        {
          "name": "stdout",
          "output_type": "stream",
          "text": [
            "0\n",
            "1\n",
            "1\n",
            "2\n",
            "3\n",
            "5\n",
            "8\n",
            "13\n",
            "21\n",
            "34\n"
          ]
        }
      ],
      "source": [
        "class FibonacciIterator:\n",
        "    def __init__(self, terms):\n",
        "        self.terms = terms\n",
        "        self.a, self.b = 0, 1\n",
        "        self.current = 0\n",
        "\n",
        "    def __iter__(self):\n",
        "        return self\n",
        "\n",
        "    def __next__(self):\n",
        "        if self.current < self.terms:\n",
        "            fib_number = self.a\n",
        "            self.a, self.b = self.b, self.a + self.b\n",
        "            self.current += 1\n",
        "            return fib_number\n",
        "        else:\n",
        "            raise StopIteration\n",
        "\n",
        "# Let's check\n",
        "fibonacci_sequence = FibonacciIterator(10)\n",
        "for number in fibonacci_sequence:\n",
        "    print(number)\n"
      ]
    },
    {
      "cell_type": "markdown",
      "metadata": {
        "id": "3e2xfpw-XpRw"
      },
      "source": [
        "Write a generator function in Python that yields the powers of 2 up to a given exponent."
      ]
    },
    {
      "cell_type": "code",
      "execution_count": null,
      "metadata": {
        "colab": {
          "base_uri": "https://localhost:8080/"
        },
        "id": "PSpPzh3zXuGc",
        "outputId": "9f0e7082-c2f0-46c8-b843-f5ad238ea7fd"
      },
      "outputs": [
        {
          "name": "stdout",
          "output_type": "stream",
          "text": [
            "1\n",
            "2\n",
            "4\n",
            "8\n",
            "16\n",
            "32\n"
          ]
        }
      ],
      "source": [
        "def powers_of_two(exponent):\n",
        "    for i in range(exponent + 1):\n",
        "        yield 2 ** i\n",
        "for power in powers_of_two(5):\n",
        "    print(power)\n"
      ]
    },
    {
      "cell_type": "markdown",
      "metadata": {
        "id": "OJlnT9vNcxwg"
      },
      "source": [
        "Implement a generator function that reads a file line by line and yields each line as a string."
      ]
    },
    {
      "cell_type": "code",
      "execution_count": 1,
      "metadata": {
        "id": "Bt7pKwkqi_eS"
      },
      "outputs": [],
      "source": [
        "def read_file_line_by_line(file_path):\n",
        "    with open(file_path, 'r') as file:\n",
        "        for line in file:\n",
        "            yield line.strip()\n",
        "            print(line)"
      ]
    },
    {
      "cell_type": "markdown",
      "metadata": {
        "id": "wZQ8lMskfwo2"
      },
      "source": [
        "Use a lambda function in Python to sort a list of tuples based on the second element of each tuple."
      ]
    },
    {
      "cell_type": "code",
      "execution_count": null,
      "metadata": {
        "colab": {
          "base_uri": "https://localhost:8080/"
        },
        "id": "tGaTu3z3f40_",
        "outputId": "2a1554e8-2d83-4b44-d9f3-781b56a0a4ec"
      },
      "outputs": [
        {
          "name": "stdout",
          "output_type": "stream",
          "text": [
            "[(1, 'apple'), (3, 'banana'), (4, 'grape'), (2, 'orange')]\n"
          ]
        }
      ],
      "source": [
        "data = [(1, 'apple'), (2, 'orange'), (3, 'banana'), (4, 'grape')]\n",
        "\n",
        "sorted_data = sorted(data, key=lambda x: x[1])\n",
        "\n",
        "print(sorted_data)\n"
      ]
    },
    {
      "cell_type": "markdown",
      "metadata": {
        "id": "9nobJbMnf8vX"
      },
      "source": [
        "Write a Python program that uses `map()` to convert a list of temperatures from Celsius to Fahrenheit."
      ]
    },
    {
      "cell_type": "code",
      "execution_count": null,
      "metadata": {
        "colab": {
          "base_uri": "https://localhost:8080/"
        },
        "id": "JV132YPqgG6o",
        "outputId": "72057e7f-3fa0-4fee-869f-eaa6a52bcd8f"
      },
      "outputs": [
        {
          "name": "stdout",
          "output_type": "stream",
          "text": [
            "[32.0, 68.0, 98.6, 212.0]\n"
          ]
        }
      ],
      "source": [
        "celsius_temps = [0, 20, 37, 100]  # Example list of temperatures in Celsius\n",
        "\n",
        "fahrenheit_temps = list(map(lambda c: (c * 9/5) + 32, celsius_temps))\n",
        "\n",
        "print(fahrenheit_temps)\n"
      ]
    },
    {
      "cell_type": "markdown",
      "metadata": {
        "id": "f9pvgbDigM9H"
      },
      "source": [
        " Create a Python program that uses `filter()` to remove all the vowels from a given string."
      ]
    },
    {
      "cell_type": "code",
      "execution_count": null,
      "metadata": {
        "colab": {
          "base_uri": "https://localhost:8080/"
        },
        "id": "fD_iGLcOgSy3",
        "outputId": "f9eeb798-6657-49ea-bf0e-689132f83f3a"
      },
      "outputs": [
        {
          "name": "stdout",
          "output_type": "stream",
          "text": [
            "Hll, Wrld!\n"
          ]
        }
      ],
      "source": [
        "def remove_vowels(input_string):\n",
        "    vowels = 'aeiouAEIOU'\n",
        "    return ''.join(filter(lambda char: char not in vowels, input_string))\n",
        "\n",
        "# Example usage\n",
        "input_string = \"Hello, World!\"\n",
        "result = remove_vowels(input_string)\n",
        "print(result)\n"
      ]
    },
    {
      "cell_type": "markdown",
      "metadata": {
        "id": "ldYmmHkbgYqG"
      },
      "source": [
        "11) Imagine an accounting routine used in a book shop. It works on a list with sublists, which look like this:\n",
        "![image.png](data:image/png;base64,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)\n",
        "\n",
        "Write a Python program, which returns a list with 2-tuples. Each tuple consists of the order number and the\n",
        "product of the price per item and the quantity. The product should be increased by 10,- € if the value of the\n",
        "order is smaller than 100,00 €.\n",
        "\n",
        "Write a Python program using lambda and map."
      ]
    },
    {
      "cell_type": "code",
      "execution_count": null,
      "metadata": {
        "colab": {
          "base_uri": "https://localhost:8080/"
        },
        "id": "sa_US-XehGb5",
        "outputId": "685cb37e-6f8b-4969-f262-f60fa521a807"
      },
      "outputs": [
        {
          "name": "stdout",
          "output_type": "stream",
          "text": [
            "[(34587, 163.8), (98762, 284.0), (77226, 108.85000000000001), (88112, 84.97)]\n"
          ]
        }
      ],
      "source": [
        "# Sample data as per the image\n",
        "data = [\n",
        "    [34587, \"Learning Python, Mark Lutz\", 4, 40.95],\n",
        "    [98762, \"Programming Python, Mark Lutz\", 5, 56.80],\n",
        "    [77226, \"Head First Python, Paul Barry\", 3, 32.95],\n",
        "    [88112, \"Einführung in Python3, Bernd Klein\", 3, 24.99]\n",
        "]\n",
        "\n",
        "\n",
        "result = list(map(lambda order: (order[0], order[2] * order[3] if order[2] * order[3] >= 100 else order[2] * order[3] + 10), data))\n",
        "\n",
        "# Output the result\n",
        "print(result)\n"
      ]
    }
  ],
  "metadata": {
    "colab": {
      "provenance": [],
      "include_colab_link": true
    },
    "kernelspec": {
      "display_name": "Python 3",
      "name": "python3"
    },
    "language_info": {
      "name": "python"
    }
  },
  "nbformat": 4,
  "nbformat_minor": 0
}