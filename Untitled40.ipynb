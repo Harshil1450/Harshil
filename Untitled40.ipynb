{
  "nbformat": 4,
  "nbformat_minor": 0,
  "metadata": {
    "colab": {
      "provenance": [],
      "authorship_tag": "ABX9TyNOSoOHLo8tak7hcBymrDTw",
      "include_colab_link": true
    },
    "kernelspec": {
      "name": "python3",
      "display_name": "Python 3"
    },
    "language_info": {
      "name": "python"
    }
  },
  "cells": [
    {
      "cell_type": "markdown",
      "metadata": {
        "id": "view-in-github",
        "colab_type": "text"
      },
      "source": [
        "<a href=\"https://colab.research.google.com/github/Harshil1450/Harshil/blob/main/Untitled40.ipynb\" target=\"_parent\"><img src=\"https://colab.research.google.com/assets/colab-badge.svg\" alt=\"Open In Colab\"/></a>"
      ]
    },
    {
      "cell_type": "markdown",
      "source": [
        "**Theoretical answers**\n",
        "### 1. **What is Logistic Regression, and how does it differ from Linear Regression?**\n",
        "\n",
        "**Logistic Regression** is a classification algorithm used for predicting the probability of a binary outcome (i.e., a class label of 0 or 1) based on one or more independent variables. It uses the **sigmoid function** to output probabilities, which are then converted to class labels (0 or 1).\n",
        "\n",
        "**Difference from Linear Regression**:\n",
        "- **Linear Regression** is used for **regression tasks**, where the goal is to predict a continuous value (e.g., price, height, etc.). It outputs a continuous value, which can be any real number.\n",
        "- **Logistic Regression** is used for **classification tasks**, where the goal is to classify the input into predefined categories (usually binary classes). It outputs probabilities, which are then mapped to classes (0 or 1).\n",
        "\n",
        "### 2. **What is the mathematical equation of Logistic Regression?**\n",
        "\n",
        "The equation for **Logistic Regression** is:\n",
        "\n",
        "\\[\n",
        "P(y=1|X) = \\frac{1}{1 + e^{-(\\beta_0 + \\beta_1 x_1 + \\beta_2 x_2 + \\dots + \\beta_n x_n)}}\n",
        "\\]\n",
        "\n",
        "Where:\n",
        "- \\( P(y=1|X) \\) is the probability that the target \\( y \\) is 1 given the feature vector \\( X \\).\n",
        "- \\( \\beta_0, \\beta_1, \\dots, \\beta_n \\) are the model parameters (coefficients).\n",
        "- \\( x_1, x_2, \\dots, x_n \\) are the input features.\n",
        "- \\( e \\) is the base of the natural logarithm.\n",
        "\n",
        "### 3. **Why do we use the Sigmoid function in Logistic Regression?**\n",
        "\n",
        "The **Sigmoid function** is used in **Logistic Regression** because it maps any real-valued number to a value between 0 and 1, which is ideal for representing probabilities. The output can then be interpreted as the probability that a given instance belongs to class 1. The function is defined as:\n",
        "\n",
        "\\[\n",
        "\\sigma(z) = \\frac{1}{1 + e^{-z}}\n",
        "\\]\n",
        "\n",
        "Where \\( z \\) is the linear combination of features. The Sigmoid function ensures that the predictions of the logistic model are probabilities (bounded between 0 and 1).\n",
        "\n",
        "### 4. **What is the cost function of Logistic Regression?**\n",
        "\n",
        "The **cost function** (also known as **loss function**) for Logistic Regression is the **Logistic Loss** or **Binary Cross-Entropy**:\n",
        "\n",
        "\\[\n",
        "J(\\beta) = -\\frac{1}{m} \\sum_{i=1}^m \\left[ y^{(i)} \\log(h_{\\beta}(x^{(i)})) + (1 - y^{(i)}) \\log(1 - h_{\\beta}(x^{(i)})) \\right]\n",
        "\\]\n",
        "\n",
        "Where:\n",
        "- \\( m \\) is the number of training examples.\n",
        "- \\( y^{(i)} \\) is the true label (0 or 1).\n",
        "- \\( h_{\\beta}(x^{(i)}) \\) is the predicted probability for class 1 (obtained using the Sigmoid function).\n",
        "\n",
        "The goal of training is to minimize this cost function, which corresponds to maximizing the likelihood of the observed data.\n",
        "\n",
        "### 5. **What is Regularization in Logistic Regression? Why is it needed?**\n",
        "\n",
        "**Regularization** is a technique used to prevent **overfitting** by adding a penalty to the cost function. In **Logistic Regression**, regularization discourages large coefficient values, which might make the model too complex and overfit the training data. There are two main types of regularization used in Logistic Regression: **L1 (Lasso)** and **L2 (Ridge)**.\n",
        "\n",
        "- **L1 regularization** (Lasso) adds a penalty term proportional to the absolute values of the coefficients.\n",
        "- **L2 regularization** (Ridge) adds a penalty term proportional to the square of the coefficients.\n",
        "\n",
        "### 6. **Explain the difference between Lasso, Ridge, and Elastic Net regression.**\n",
        "\n",
        "- **Lasso Regression** (L1 regularization): Lasso adds the absolute values of the coefficients to the cost function. It can shrink some coefficients to exactly zero, effectively performing feature selection.\n",
        "- **Ridge Regression** (L2 regularization): Ridge adds the square of the coefficients to the cost function. It prevents large coefficients but does not shrink them to zero.\n",
        "- **Elastic Net Regression**: Elastic Net combines both L1 and L2 regularization, allowing for feature selection (like Lasso) and shrinkage (like Ridge). It is useful when there are correlations between features.\n",
        "\n",
        "### 7. **When should we use Elastic Net instead of Lasso or Ridge?**\n",
        "\n",
        "**Elastic Net** is preferred when:\n",
        "- There are correlations between features (i.e., when features are highly correlated, Elastic Net can perform better than Lasso).\n",
        "- You want to combine the advantages of both **Lasso** (for feature selection) and **Ridge** (for handling multicollinearity).\n",
        "\n",
        "### 8. **What is the impact of the regularization parameter (λ) in Logistic Regression?**\n",
        "\n",
        "The regularization parameter \\( \\lambda \\) (also known as **alpha**) controls the strength of the regularization. A large value of \\( \\lambda \\) will heavily penalize large coefficients, potentially leading to underfitting. A small value of \\( \\lambda \\) will allow the coefficients to grow freely, increasing the risk of overfitting. The right value of \\( \\lambda \\) is typically chosen using techniques like **cross-validation**.\n",
        "\n",
        "### 9. **What are the key assumptions of Logistic Regression?**\n",
        "\n",
        "Key assumptions of **Logistic Regression**:\n",
        "- The relationship between the log-odds of the dependent variable and the independent variables is linear.\n",
        "- The observations are independent of each other.\n",
        "- There is little or no multicollinearity between the independent variables.\n",
        "- The dependent variable is binary or categorical (for multiclass classification).\n",
        "\n",
        "### 10. **What are some alternatives to Logistic Regression for classification tasks?**\n",
        "\n",
        "- **Decision Trees**\n",
        "- **Random Forests**\n",
        "- **Support Vector Machines (SVM)**\n",
        "- **K-Nearest Neighbors (KNN)**\n",
        "- **Naive Bayes**\n",
        "- **Neural Networks**\n",
        "- **Gradient Boosting Machines (e.g., XGBoost, LightGBM)**\n",
        "\n",
        "### 11. **What are Classification Evaluation Metrics?**\n",
        "\n",
        "Common **classification evaluation metrics**:\n",
        "- **Accuracy**: Percentage of correctly classified instances.\n",
        "- **Precision**: The ratio of true positive predictions to the total predicted positives.\n",
        "- **Recall (Sensitivity)**: The ratio of true positive predictions to the total actual positives.\n",
        "- **F1-Score**: The harmonic mean of precision and recall.\n",
        "- **ROC Curve**: A graph of True Positive Rate vs False Positive Rate.\n",
        "- **AUC (Area Under the Curve)**: Measures the overall performance of the classifier.\n",
        "\n",
        "### 12. **How does class imbalance affect Logistic Regression?**\n",
        "\n",
        "**Class imbalance** can lead to biased predictions in **Logistic Regression**, where the model may predict the majority class more often. To mitigate this, you can:\n",
        "- Use **class weights** in the logistic regression model.\n",
        "- Apply **over-sampling** (like SMOTE) or **under-sampling** techniques.\n",
        "- Use evaluation metrics such as **Precision-Recall** curves or **F1-Score** instead of accuracy.\n",
        "\n",
        "### 13. **What is Hyperparameter Tuning in Logistic Regression?**\n",
        "\n",
        "**Hyperparameter tuning** involves finding the best values for hyperparameters (like \\( C \\) for regularization strength, solver type, and maximum iterations). It can be done using methods like:\n",
        "- **Grid Search**: Try every combination of hyperparameters.\n",
        "- **Randomized Search**: Try a random combination of hyperparameters.\n",
        "\n",
        "### 14. **What are different solvers in Logistic Regression? Which one should be used?**\n",
        "\n",
        "Common solvers in **Logistic Regression**:\n",
        "- **'lbfgs'**: Good for large datasets and multiclass classification.\n",
        "- **'liblinear'**: Good for smaller datasets and binary classification.\n",
        "- **'saga'**: Efficient for large datasets and supports both L1 and L2 regularization.\n",
        "- **'newton-cg'**: Works well for multiclass problems.\n",
        "\n",
        "### 15. **How is Logistic Regression extended for multiclass classification?**\n",
        "\n",
        "**Logistic Regression** can be extended for multiclass classification using:\n",
        "- **One-vs-Rest (OvR)**: Train one classifier per class.\n",
        "- **Softmax Regression**: A generalized version of logistic regression that directly handles multiclass problems by outputting probabilities for each class.\n",
        "\n",
        "### 16. **What are the advantages and disadvantages of Logistic Regression?**\n",
        "\n",
        "**Advantages**:\n",
        "- Simple and interpretable.\n",
        "- Efficient for binary classification.\n",
        "- Works well with linearly separable data.\n",
        "\n",
        "**Disadvantages**:\n",
        "- Assumes linearity between the input features and the log-odds.\n",
        "- Struggles with non-linear relationships.\n",
        "- Sensitive to outliers.\n",
        "\n",
        "### 17. **What are some use cases of Logistic Regression?**\n",
        "\n",
        "- **Spam email detection**.\n",
        "- **Disease diagnosis (e.g., cancer vs. non-cancer)**.\n",
        "- **Customer churn prediction**.\n",
        "- **Credit scoring**.\n",
        "- **Marketing response prediction**.\n",
        "\n",
        "### 18. **What is the difference between Softmax Regression and Logistic Regression?**\n",
        "\n",
        "**Softmax Regression** (also called **Multinomial Logistic Regression**) is an extension of **Logistic Regression** for multiclass classification. While Logistic Regression handles binary classification, **Softmax Regression** can handle multiple classes by assigning a probability to each class.\n",
        "\n",
        "### 19. **How do we choose between One-vs-Rest (OvR) and Softmax for multiclass classification?**\n",
        "\n",
        "- **One-vs-Rest (OvR)** is simple and works well when classes are not highly correlated.\n",
        "- **Softmax** is preferred when classes are highly correlated and the goal is to directly predict the probability of each class.\n",
        "\n",
        "### 20. **How do we interpret coefficients in Logistic Regression?**\n",
        "\n",
        "In **Logistic Regression**, the coefficients represent the log-odds change in the target variable for a one-unit increase in the corresponding feature. Positive coefficients increase the odds of the target class, and negative coefficients decrease the odds.\n",
        "\n"
      ],
      "metadata": {
        "id": "PmkriL6fOFP2"
      }
    },
    {
      "cell_type": "code",
      "execution_count": 2,
      "metadata": {
        "id": "XI3ocpVyoCwD"
      },
      "outputs": [],
      "source": [
        "import pandas as pd\n",
        "import numpy as np\n",
        "import matplotlib.pyplot as plt\n",
        "import seaborn as sns\n",
        "import warnings\n",
        "warnings.filterwarnings('ignore')"
      ]
    },
    {
      "cell_type": "code",
      "source": [
        "#Q-1>>>\n",
        "from sklearn.datasets import load_iris\n",
        "data=load_iris()\n",
        "X=data.data\n",
        "y=data.target\n",
        "from sklearn.model_selection import train_test_split\n",
        "X_train,X_test,y_train,y_test=train_test_split(X,y,test_size=0.3,random_state=1)\n",
        "from sklearn.linear_model import LogisticRegression\n",
        "model=LogisticRegression()\n",
        "model.fit(X_train,y_train)\n",
        "y_pred=model.predict(X_test)\n",
        "from sklearn.metrics import accuracy_score\n",
        "print(f\"The accuracy score of the given model is\",accuracy_score(y_test,y_pred)*100)\n"
      ],
      "metadata": {
        "colab": {
          "base_uri": "https://localhost:8080/"
        },
        "id": "hSpb4F4joKDp",
        "outputId": "97af98e5-0070-4534-ff2f-7f5fe36747ce"
      },
      "execution_count": 3,
      "outputs": [
        {
          "output_type": "stream",
          "name": "stdout",
          "text": [
            "The accuracy score of the given model is 97.77777777777777\n"
          ]
        }
      ]
    },
    {
      "cell_type": "code",
      "source": [
        "#Q-2>>\n",
        "# We are executing this question using the above used dataset\n",
        "mdl=LogisticRegression(penalty = 'l1', solver = 'liblinear')\n",
        "mdl.fit(X_train,y_train)\n",
        "y_pred=mdl.predict(X_test)\n",
        "print(f\"The accuracy score of the model using l1 penalty is\",accuracy_score(y_test,y_pred)*100)"
      ],
      "metadata": {
        "colab": {
          "base_uri": "https://localhost:8080/"
        },
        "id": "hFIXc3rMoRHp",
        "outputId": "be26bf08-266b-4904-8523-4a3021e0cdaa"
      },
      "execution_count": 4,
      "outputs": [
        {
          "output_type": "stream",
          "name": "stdout",
          "text": [
            "The accuracy score of the model using l1 penalty is 93.33333333333333\n"
          ]
        }
      ]
    },
    {
      "cell_type": "code",
      "source": [
        "#Q-3>>\n",
        "# We are executing this question using the above used dataset\n",
        "md=LogisticRegression(penalty = 'l2', solver = 'liblinear')\n",
        "md.fit(X_train,y_train)\n",
        "y_pred=md.predict(X_test)\n",
        "print(f\"The accuracy score of the model using l2 penalty is\",accuracy_score(y_test,y_pred)*100)"
      ],
      "metadata": {
        "colab": {
          "base_uri": "https://localhost:8080/"
        },
        "id": "ePetO5yYqGE9",
        "outputId": "72b4c3ad-0f92-4d75-99d5-68f624555204"
      },
      "execution_count": 5,
      "outputs": [
        {
          "output_type": "stream",
          "name": "stdout",
          "text": [
            "The accuracy score of the model using l2 penalty is 88.88888888888889\n"
          ]
        }
      ]
    },
    {
      "cell_type": "code",
      "source": [
        "#Q-4>>\n",
        "# We are executing this question using the above used dataset\n",
        "m=LogisticRegression(penalty='elasticnet', solver='saga', l1_ratio=0.5)\n",
        "m.fit(X_train,y_train)\n",
        "y_pred=m.predict(X_test)\n",
        "print(f\"The accuracy score of the model using elasticnet penalty is\",accuracy_score(y_test,y_pred)*100)"
      ],
      "metadata": {
        "colab": {
          "base_uri": "https://localhost:8080/"
        },
        "id": "Un5RO3COq34S",
        "outputId": "2488b321-3553-47e8-d83e-6a022a02b7d6"
      },
      "execution_count": 6,
      "outputs": [
        {
          "output_type": "stream",
          "name": "stdout",
          "text": [
            "The accuracy score of the model using elasticnet penalty is 97.77777777777777\n"
          ]
        }
      ]
    },
    {
      "cell_type": "code",
      "source": [
        "#Q-5>>\n",
        "# We are executing this question using the above used dataset\n",
        "mod = LogisticRegression(multi_class='ovr', solver='lbfgs')\n",
        "mod.fit(X_train,y_train)\n",
        "y_pred=mod.predict(X_test)\n",
        "print(f\"The accuracy score of the model using one vs rest is\",accuracy_score(y_test,y_pred)*100)"
      ],
      "metadata": {
        "colab": {
          "base_uri": "https://localhost:8080/"
        },
        "id": "YWv5sREXrLwj",
        "outputId": "a7f1e5c5-52c2-483a-e294-7ce641774b02"
      },
      "execution_count": 7,
      "outputs": [
        {
          "output_type": "stream",
          "name": "stdout",
          "text": [
            "The accuracy score of the model using one vs rest is 86.66666666666667\n"
          ]
        }
      ]
    },
    {
      "cell_type": "code",
      "source": [
        "#Q-6>>\n",
        "# We are executing this question using the above used dataset\n",
        "mol = LogisticRegression()\n",
        "param_grid = {'penalty': ['l1', 'l2', 'elasticnet'], 'C': [0.1,1,10,100]}\n",
        "from sklearn.model_selection import GridSearchCV\n",
        "grd = GridSearchCV(estimator=mol, cv=5, scoring='accuracy',param_grid = param_grid )\n",
        "grd.fit(X_train,y_train)\n",
        "y_pred=grd.predict(X_test)\n",
        "print(\"the best parameters are:\",grd.best_params_)\n",
        "print(\"The best accuracy is :\", grd.best_score_)\n",
        "best_model=grd.best_estimator_\n",
        "y_pred = best_model.predict(X_test)\n",
        "print(f\"The accuracy score of the model using grid search CV is\",accuracy_score(y_test,y_pred)*100)"
      ],
      "metadata": {
        "colab": {
          "base_uri": "https://localhost:8080/"
        },
        "id": "b4_veMCCtbrM",
        "outputId": "68d65b59-b4f4-49b6-9204-28b979a69e0d"
      },
      "execution_count": 8,
      "outputs": [
        {
          "output_type": "stream",
          "name": "stdout",
          "text": [
            "the best parameters are: {'C': 1, 'penalty': 'l2'}\n",
            "The best accuracy is : 0.9714285714285715\n",
            "The accuracy score of the model using grid search CV is 97.77777777777777\n"
          ]
        }
      ]
    },
    {
      "cell_type": "code",
      "source": [
        "#Q-7>>\n",
        "# We are executing this question using the above used dataset\n",
        "moe = LogisticRegression(solver = 'liblinear')\n",
        "from sklearn.model_selection import StratifiedKFold\n",
        "skf = StratifiedKFold(n_splits=10, shuffle=True, random_state=1)\n",
        "accuracies = []\n",
        "for train_index, test_index in skf.split(X, y):\n",
        "    X_train, X_test = X[train_index], X[test_index]\n",
        "    y_train, y_test = y[train_index], y[test_index]\n",
        "    model.fit(X_train, y_train)\n",
        "    y_pred = model.predict(X_test)\n",
        "    fold_accuracy = accuracy_score(y_test, y_pred)\n",
        "    accuracies.append(fold_accuracy)\n",
        "average_accuracy = np.mean(accuracies)\n",
        "print(f\"Average accuracy using Stratified K-Fold Cross-Validation: {average_accuracy * 100:.2f}%\")"
      ],
      "metadata": {
        "colab": {
          "base_uri": "https://localhost:8080/"
        },
        "id": "y3C45WAawcQj",
        "outputId": "1966da69-065a-4237-f002-6784b1da9519"
      },
      "execution_count": 9,
      "outputs": [
        {
          "output_type": "stream",
          "name": "stdout",
          "text": [
            "Average accuracy using Stratified K-Fold Cross-Validation: 96.00%\n"
          ]
        }
      ]
    },
    {
      "cell_type": "code",
      "source": [
        "#Q-8>>\n",
        "df=pd.read_csv(\"height-weight.csv\")"
      ],
      "metadata": {
        "id": "Ws_eD9p6yL5U"
      },
      "execution_count": 10,
      "outputs": []
    },
    {
      "cell_type": "code",
      "source": [
        "df"
      ],
      "metadata": {
        "colab": {
          "base_uri": "https://localhost:8080/",
          "height": 770
        },
        "id": "fu5PD4YEzdjZ",
        "outputId": "e2ba3835-80b8-464b-e42b-cb2e6fbc6ab3"
      },
      "execution_count": 11,
      "outputs": [
        {
          "output_type": "execute_result",
          "data": {
            "text/plain": [
              "    Weight  Height\n",
              "0       45     120\n",
              "1       58     135\n",
              "2       48     123\n",
              "3       60     145\n",
              "4       70     160\n",
              "5       78     162\n",
              "6       80     163\n",
              "7       90     175\n",
              "8       95     182\n",
              "9       78     170\n",
              "10      82     176\n",
              "11      95     182\n",
              "12     105     175\n",
              "13     100     183\n",
              "14      85     170\n",
              "15      78     177\n",
              "16      50     140\n",
              "17      65     159\n",
              "18      76     150\n",
              "19      87     167\n",
              "20      45     129\n",
              "21      56     140\n",
              "22      72     160"
            ],
            "text/html": [
              "\n",
              "  <div id=\"df-5d5a1fa6-5569-4a55-8e4f-9cfcca7e32ce\" class=\"colab-df-container\">\n",
              "    <div>\n",
              "<style scoped>\n",
              "    .dataframe tbody tr th:only-of-type {\n",
              "        vertical-align: middle;\n",
              "    }\n",
              "\n",
              "    .dataframe tbody tr th {\n",
              "        vertical-align: top;\n",
              "    }\n",
              "\n",
              "    .dataframe thead th {\n",
              "        text-align: right;\n",
              "    }\n",
              "</style>\n",
              "<table border=\"1\" class=\"dataframe\">\n",
              "  <thead>\n",
              "    <tr style=\"text-align: right;\">\n",
              "      <th></th>\n",
              "      <th>Weight</th>\n",
              "      <th>Height</th>\n",
              "    </tr>\n",
              "  </thead>\n",
              "  <tbody>\n",
              "    <tr>\n",
              "      <th>0</th>\n",
              "      <td>45</td>\n",
              "      <td>120</td>\n",
              "    </tr>\n",
              "    <tr>\n",
              "      <th>1</th>\n",
              "      <td>58</td>\n",
              "      <td>135</td>\n",
              "    </tr>\n",
              "    <tr>\n",
              "      <th>2</th>\n",
              "      <td>48</td>\n",
              "      <td>123</td>\n",
              "    </tr>\n",
              "    <tr>\n",
              "      <th>3</th>\n",
              "      <td>60</td>\n",
              "      <td>145</td>\n",
              "    </tr>\n",
              "    <tr>\n",
              "      <th>4</th>\n",
              "      <td>70</td>\n",
              "      <td>160</td>\n",
              "    </tr>\n",
              "    <tr>\n",
              "      <th>5</th>\n",
              "      <td>78</td>\n",
              "      <td>162</td>\n",
              "    </tr>\n",
              "    <tr>\n",
              "      <th>6</th>\n",
              "      <td>80</td>\n",
              "      <td>163</td>\n",
              "    </tr>\n",
              "    <tr>\n",
              "      <th>7</th>\n",
              "      <td>90</td>\n",
              "      <td>175</td>\n",
              "    </tr>\n",
              "    <tr>\n",
              "      <th>8</th>\n",
              "      <td>95</td>\n",
              "      <td>182</td>\n",
              "    </tr>\n",
              "    <tr>\n",
              "      <th>9</th>\n",
              "      <td>78</td>\n",
              "      <td>170</td>\n",
              "    </tr>\n",
              "    <tr>\n",
              "      <th>10</th>\n",
              "      <td>82</td>\n",
              "      <td>176</td>\n",
              "    </tr>\n",
              "    <tr>\n",
              "      <th>11</th>\n",
              "      <td>95</td>\n",
              "      <td>182</td>\n",
              "    </tr>\n",
              "    <tr>\n",
              "      <th>12</th>\n",
              "      <td>105</td>\n",
              "      <td>175</td>\n",
              "    </tr>\n",
              "    <tr>\n",
              "      <th>13</th>\n",
              "      <td>100</td>\n",
              "      <td>183</td>\n",
              "    </tr>\n",
              "    <tr>\n",
              "      <th>14</th>\n",
              "      <td>85</td>\n",
              "      <td>170</td>\n",
              "    </tr>\n",
              "    <tr>\n",
              "      <th>15</th>\n",
              "      <td>78</td>\n",
              "      <td>177</td>\n",
              "    </tr>\n",
              "    <tr>\n",
              "      <th>16</th>\n",
              "      <td>50</td>\n",
              "      <td>140</td>\n",
              "    </tr>\n",
              "    <tr>\n",
              "      <th>17</th>\n",
              "      <td>65</td>\n",
              "      <td>159</td>\n",
              "    </tr>\n",
              "    <tr>\n",
              "      <th>18</th>\n",
              "      <td>76</td>\n",
              "      <td>150</td>\n",
              "    </tr>\n",
              "    <tr>\n",
              "      <th>19</th>\n",
              "      <td>87</td>\n",
              "      <td>167</td>\n",
              "    </tr>\n",
              "    <tr>\n",
              "      <th>20</th>\n",
              "      <td>45</td>\n",
              "      <td>129</td>\n",
              "    </tr>\n",
              "    <tr>\n",
              "      <th>21</th>\n",
              "      <td>56</td>\n",
              "      <td>140</td>\n",
              "    </tr>\n",
              "    <tr>\n",
              "      <th>22</th>\n",
              "      <td>72</td>\n",
              "      <td>160</td>\n",
              "    </tr>\n",
              "  </tbody>\n",
              "</table>\n",
              "</div>\n",
              "    <div class=\"colab-df-buttons\">\n",
              "\n",
              "  <div class=\"colab-df-container\">\n",
              "    <button class=\"colab-df-convert\" onclick=\"convertToInteractive('df-5d5a1fa6-5569-4a55-8e4f-9cfcca7e32ce')\"\n",
              "            title=\"Convert this dataframe to an interactive table.\"\n",
              "            style=\"display:none;\">\n",
              "\n",
              "  <svg xmlns=\"http://www.w3.org/2000/svg\" height=\"24px\" viewBox=\"0 -960 960 960\">\n",
              "    <path d=\"M120-120v-720h720v720H120Zm60-500h600v-160H180v160Zm220 220h160v-160H400v160Zm0 220h160v-160H400v160ZM180-400h160v-160H180v160Zm440 0h160v-160H620v160ZM180-180h160v-160H180v160Zm440 0h160v-160H620v160Z\"/>\n",
              "  </svg>\n",
              "    </button>\n",
              "\n",
              "  <style>\n",
              "    .colab-df-container {\n",
              "      display:flex;\n",
              "      gap: 12px;\n",
              "    }\n",
              "\n",
              "    .colab-df-convert {\n",
              "      background-color: #E8F0FE;\n",
              "      border: none;\n",
              "      border-radius: 50%;\n",
              "      cursor: pointer;\n",
              "      display: none;\n",
              "      fill: #1967D2;\n",
              "      height: 32px;\n",
              "      padding: 0 0 0 0;\n",
              "      width: 32px;\n",
              "    }\n",
              "\n",
              "    .colab-df-convert:hover {\n",
              "      background-color: #E2EBFA;\n",
              "      box-shadow: 0px 1px 2px rgba(60, 64, 67, 0.3), 0px 1px 3px 1px rgba(60, 64, 67, 0.15);\n",
              "      fill: #174EA6;\n",
              "    }\n",
              "\n",
              "    .colab-df-buttons div {\n",
              "      margin-bottom: 4px;\n",
              "    }\n",
              "\n",
              "    [theme=dark] .colab-df-convert {\n",
              "      background-color: #3B4455;\n",
              "      fill: #D2E3FC;\n",
              "    }\n",
              "\n",
              "    [theme=dark] .colab-df-convert:hover {\n",
              "      background-color: #434B5C;\n",
              "      box-shadow: 0px 1px 3px 1px rgba(0, 0, 0, 0.15);\n",
              "      filter: drop-shadow(0px 1px 2px rgba(0, 0, 0, 0.3));\n",
              "      fill: #FFFFFF;\n",
              "    }\n",
              "  </style>\n",
              "\n",
              "    <script>\n",
              "      const buttonEl =\n",
              "        document.querySelector('#df-5d5a1fa6-5569-4a55-8e4f-9cfcca7e32ce button.colab-df-convert');\n",
              "      buttonEl.style.display =\n",
              "        google.colab.kernel.accessAllowed ? 'block' : 'none';\n",
              "\n",
              "      async function convertToInteractive(key) {\n",
              "        const element = document.querySelector('#df-5d5a1fa6-5569-4a55-8e4f-9cfcca7e32ce');\n",
              "        const dataTable =\n",
              "          await google.colab.kernel.invokeFunction('convertToInteractive',\n",
              "                                                    [key], {});\n",
              "        if (!dataTable) return;\n",
              "\n",
              "        const docLinkHtml = 'Like what you see? Visit the ' +\n",
              "          '<a target=\"_blank\" href=https://colab.research.google.com/notebooks/data_table.ipynb>data table notebook</a>'\n",
              "          + ' to learn more about interactive tables.';\n",
              "        element.innerHTML = '';\n",
              "        dataTable['output_type'] = 'display_data';\n",
              "        await google.colab.output.renderOutput(dataTable, element);\n",
              "        const docLink = document.createElement('div');\n",
              "        docLink.innerHTML = docLinkHtml;\n",
              "        element.appendChild(docLink);\n",
              "      }\n",
              "    </script>\n",
              "  </div>\n",
              "\n",
              "\n",
              "<div id=\"df-2b50f20c-7b4a-4291-9231-289c08eb5180\">\n",
              "  <button class=\"colab-df-quickchart\" onclick=\"quickchart('df-2b50f20c-7b4a-4291-9231-289c08eb5180')\"\n",
              "            title=\"Suggest charts\"\n",
              "            style=\"display:none;\">\n",
              "\n",
              "<svg xmlns=\"http://www.w3.org/2000/svg\" height=\"24px\"viewBox=\"0 0 24 24\"\n",
              "     width=\"24px\">\n",
              "    <g>\n",
              "        <path d=\"M19 3H5c-1.1 0-2 .9-2 2v14c0 1.1.9 2 2 2h14c1.1 0 2-.9 2-2V5c0-1.1-.9-2-2-2zM9 17H7v-7h2v7zm4 0h-2V7h2v10zm4 0h-2v-4h2v4z\"/>\n",
              "    </g>\n",
              "</svg>\n",
              "  </button>\n",
              "\n",
              "<style>\n",
              "  .colab-df-quickchart {\n",
              "      --bg-color: #E8F0FE;\n",
              "      --fill-color: #1967D2;\n",
              "      --hover-bg-color: #E2EBFA;\n",
              "      --hover-fill-color: #174EA6;\n",
              "      --disabled-fill-color: #AAA;\n",
              "      --disabled-bg-color: #DDD;\n",
              "  }\n",
              "\n",
              "  [theme=dark] .colab-df-quickchart {\n",
              "      --bg-color: #3B4455;\n",
              "      --fill-color: #D2E3FC;\n",
              "      --hover-bg-color: #434B5C;\n",
              "      --hover-fill-color: #FFFFFF;\n",
              "      --disabled-bg-color: #3B4455;\n",
              "      --disabled-fill-color: #666;\n",
              "  }\n",
              "\n",
              "  .colab-df-quickchart {\n",
              "    background-color: var(--bg-color);\n",
              "    border: none;\n",
              "    border-radius: 50%;\n",
              "    cursor: pointer;\n",
              "    display: none;\n",
              "    fill: var(--fill-color);\n",
              "    height: 32px;\n",
              "    padding: 0;\n",
              "    width: 32px;\n",
              "  }\n",
              "\n",
              "  .colab-df-quickchart:hover {\n",
              "    background-color: var(--hover-bg-color);\n",
              "    box-shadow: 0 1px 2px rgba(60, 64, 67, 0.3), 0 1px 3px 1px rgba(60, 64, 67, 0.15);\n",
              "    fill: var(--button-hover-fill-color);\n",
              "  }\n",
              "\n",
              "  .colab-df-quickchart-complete:disabled,\n",
              "  .colab-df-quickchart-complete:disabled:hover {\n",
              "    background-color: var(--disabled-bg-color);\n",
              "    fill: var(--disabled-fill-color);\n",
              "    box-shadow: none;\n",
              "  }\n",
              "\n",
              "  .colab-df-spinner {\n",
              "    border: 2px solid var(--fill-color);\n",
              "    border-color: transparent;\n",
              "    border-bottom-color: var(--fill-color);\n",
              "    animation:\n",
              "      spin 1s steps(1) infinite;\n",
              "  }\n",
              "\n",
              "  @keyframes spin {\n",
              "    0% {\n",
              "      border-color: transparent;\n",
              "      border-bottom-color: var(--fill-color);\n",
              "      border-left-color: var(--fill-color);\n",
              "    }\n",
              "    20% {\n",
              "      border-color: transparent;\n",
              "      border-left-color: var(--fill-color);\n",
              "      border-top-color: var(--fill-color);\n",
              "    }\n",
              "    30% {\n",
              "      border-color: transparent;\n",
              "      border-left-color: var(--fill-color);\n",
              "      border-top-color: var(--fill-color);\n",
              "      border-right-color: var(--fill-color);\n",
              "    }\n",
              "    40% {\n",
              "      border-color: transparent;\n",
              "      border-right-color: var(--fill-color);\n",
              "      border-top-color: var(--fill-color);\n",
              "    }\n",
              "    60% {\n",
              "      border-color: transparent;\n",
              "      border-right-color: var(--fill-color);\n",
              "    }\n",
              "    80% {\n",
              "      border-color: transparent;\n",
              "      border-right-color: var(--fill-color);\n",
              "      border-bottom-color: var(--fill-color);\n",
              "    }\n",
              "    90% {\n",
              "      border-color: transparent;\n",
              "      border-bottom-color: var(--fill-color);\n",
              "    }\n",
              "  }\n",
              "</style>\n",
              "\n",
              "  <script>\n",
              "    async function quickchart(key) {\n",
              "      const quickchartButtonEl =\n",
              "        document.querySelector('#' + key + ' button');\n",
              "      quickchartButtonEl.disabled = true;  // To prevent multiple clicks.\n",
              "      quickchartButtonEl.classList.add('colab-df-spinner');\n",
              "      try {\n",
              "        const charts = await google.colab.kernel.invokeFunction(\n",
              "            'suggestCharts', [key], {});\n",
              "      } catch (error) {\n",
              "        console.error('Error during call to suggestCharts:', error);\n",
              "      }\n",
              "      quickchartButtonEl.classList.remove('colab-df-spinner');\n",
              "      quickchartButtonEl.classList.add('colab-df-quickchart-complete');\n",
              "    }\n",
              "    (() => {\n",
              "      let quickchartButtonEl =\n",
              "        document.querySelector('#df-2b50f20c-7b4a-4291-9231-289c08eb5180 button');\n",
              "      quickchartButtonEl.style.display =\n",
              "        google.colab.kernel.accessAllowed ? 'block' : 'none';\n",
              "    })();\n",
              "  </script>\n",
              "</div>\n",
              "\n",
              "  <div id=\"id_41100373-726f-4650-8d51-42fd5fe7bcc9\">\n",
              "    <style>\n",
              "      .colab-df-generate {\n",
              "        background-color: #E8F0FE;\n",
              "        border: none;\n",
              "        border-radius: 50%;\n",
              "        cursor: pointer;\n",
              "        display: none;\n",
              "        fill: #1967D2;\n",
              "        height: 32px;\n",
              "        padding: 0 0 0 0;\n",
              "        width: 32px;\n",
              "      }\n",
              "\n",
              "      .colab-df-generate:hover {\n",
              "        background-color: #E2EBFA;\n",
              "        box-shadow: 0px 1px 2px rgba(60, 64, 67, 0.3), 0px 1px 3px 1px rgba(60, 64, 67, 0.15);\n",
              "        fill: #174EA6;\n",
              "      }\n",
              "\n",
              "      [theme=dark] .colab-df-generate {\n",
              "        background-color: #3B4455;\n",
              "        fill: #D2E3FC;\n",
              "      }\n",
              "\n",
              "      [theme=dark] .colab-df-generate:hover {\n",
              "        background-color: #434B5C;\n",
              "        box-shadow: 0px 1px 3px 1px rgba(0, 0, 0, 0.15);\n",
              "        filter: drop-shadow(0px 1px 2px rgba(0, 0, 0, 0.3));\n",
              "        fill: #FFFFFF;\n",
              "      }\n",
              "    </style>\n",
              "    <button class=\"colab-df-generate\" onclick=\"generateWithVariable('df')\"\n",
              "            title=\"Generate code using this dataframe.\"\n",
              "            style=\"display:none;\">\n",
              "\n",
              "  <svg xmlns=\"http://www.w3.org/2000/svg\" height=\"24px\"viewBox=\"0 0 24 24\"\n",
              "       width=\"24px\">\n",
              "    <path d=\"M7,19H8.4L18.45,9,17,7.55,7,17.6ZM5,21V16.75L18.45,3.32a2,2,0,0,1,2.83,0l1.4,1.43a1.91,1.91,0,0,1,.58,1.4,1.91,1.91,0,0,1-.58,1.4L9.25,21ZM18.45,9,17,7.55Zm-12,3A5.31,5.31,0,0,0,4.9,8.1,5.31,5.31,0,0,0,1,6.5,5.31,5.31,0,0,0,4.9,4.9,5.31,5.31,0,0,0,6.5,1,5.31,5.31,0,0,0,8.1,4.9,5.31,5.31,0,0,0,12,6.5,5.46,5.46,0,0,0,6.5,12Z\"/>\n",
              "  </svg>\n",
              "    </button>\n",
              "    <script>\n",
              "      (() => {\n",
              "      const buttonEl =\n",
              "        document.querySelector('#id_41100373-726f-4650-8d51-42fd5fe7bcc9 button.colab-df-generate');\n",
              "      buttonEl.style.display =\n",
              "        google.colab.kernel.accessAllowed ? 'block' : 'none';\n",
              "\n",
              "      buttonEl.onclick = () => {\n",
              "        google.colab.notebook.generateWithVariable('df');\n",
              "      }\n",
              "      })();\n",
              "    </script>\n",
              "  </div>\n",
              "\n",
              "    </div>\n",
              "  </div>\n"
            ],
            "application/vnd.google.colaboratory.intrinsic+json": {
              "type": "dataframe",
              "variable_name": "df",
              "summary": "{\n  \"name\": \"df\",\n  \"rows\": 23,\n  \"fields\": [\n    {\n      \"column\": \"Weight\",\n      \"properties\": {\n        \"dtype\": \"number\",\n        \"std\": 17,\n        \"min\": 45,\n        \"max\": 105,\n        \"num_unique_values\": 19,\n        \"samples\": [\n          45,\n          78,\n          100\n        ],\n        \"semantic_type\": \"\",\n        \"description\": \"\"\n      }\n    },\n    {\n      \"column\": \"Height\",\n      \"properties\": {\n        \"dtype\": \"number\",\n        \"std\": 19,\n        \"min\": 120,\n        \"max\": 183,\n        \"num_unique_values\": 18,\n        \"samples\": [\n          120,\n          135,\n          182\n        ],\n        \"semantic_type\": \"\",\n        \"description\": \"\"\n      }\n    }\n  ]\n}"
            }
          },
          "metadata": {},
          "execution_count": 11
        }
      ]
    },
    {
      "cell_type": "code",
      "source": [
        "X=df.iloc[:,:-1]\n",
        "y=df.iloc[:,-1]"
      ],
      "metadata": {
        "id": "euXR8yXmzgFt"
      },
      "execution_count": 12,
      "outputs": []
    },
    {
      "cell_type": "code",
      "source": [
        "X_train,X_test,y_train,y_test=train_test_split(X,y,test_size=0.3,random_state=1)\n",
        "from sklearn.linear_model import LogisticRegression\n",
        "lr = LogisticRegression()\n",
        "lr.fit(X_train,y_train)\n",
        "y_pred=lr.predict(X_test)\n",
        "y_pred"
      ],
      "metadata": {
        "colab": {
          "base_uri": "https://localhost:8080/"
        },
        "id": "Grkf4OaAzr4j",
        "outputId": "f3fc5f70-5e9e-4e26-aca8-84e4b9539bfd"
      },
      "execution_count": 13,
      "outputs": [
        {
          "output_type": "execute_result",
          "data": {
            "text/plain": [
              "array([120, 160, 135, 175, 170, 123, 170])"
            ]
          },
          "metadata": {},
          "execution_count": 13
        }
      ]
    },
    {
      "cell_type": "code",
      "source": [
        "accuracy_score(y_test,y_pred)"
      ],
      "metadata": {
        "colab": {
          "base_uri": "https://localhost:8080/"
        },
        "id": "wTTebibzzsnD",
        "outputId": "093dadec-f50e-4de1-9988-39ce217201fb"
      },
      "execution_count": 14,
      "outputs": [
        {
          "output_type": "execute_result",
          "data": {
            "text/plain": [
              "0.0"
            ]
          },
          "metadata": {},
          "execution_count": 14
        }
      ]
    },
    {
      "cell_type": "code",
      "source": [
        "#Q-9>>\n",
        "from sklearn.datasets import load_diabetes\n",
        "data =  load_diabetes()\n",
        "X=data.data\n",
        "y=data.target"
      ],
      "metadata": {
        "id": "W--u3MZTz2PN"
      },
      "execution_count": 15,
      "outputs": []
    },
    {
      "cell_type": "code",
      "source": [
        "X=pd.DataFrame(X)\n",
        "y=pd.DataFrame(y)\n",
        "X_train,X_test,y_train,y_test=train_test_split(X,y,test_size=0.3,random_state=1)\n",
        "log = LogisticRegression()\n",
        "param_distributions = {\n",
        "    'penalty': ['l1', 'l2'],\n",
        "    'C': [0.001, 0.01, 0.1, 1, 10, 100],\n",
        "}"
      ],
      "metadata": {
        "id": "jhEn6vtb1i8R"
      },
      "execution_count": 16,
      "outputs": []
    },
    {
      "cell_type": "code",
      "source": [
        "from sklearn.model_selection import RandomizedSearchCV\n",
        "rd = RandomizedSearchCV(param_distributions=param_distributions,n_iter = 100,estimator=log,cv=5,scoring='accuracy')\n",
        "rd.fit(X_train,y_train)\n",
        "print(rd.best_params_)\n",
        "print(rd.best_score_)\n",
        "print(rd.best_estimator_)\n",
        "best_mod = rd.best_estimator_\n",
        "y_pred = best_mod.predict(X_test)\n",
        "print(\"best accuracy :\",accuracy_score(y_test,y_pred))"
      ],
      "metadata": {
        "colab": {
          "base_uri": "https://localhost:8080/"
        },
        "id": "P_VO5JyM1mZ0",
        "outputId": "2ce7bca3-de93-4f9e-aed5-468a502a0edd"
      },
      "execution_count": 17,
      "outputs": [
        {
          "output_type": "stream",
          "name": "stdout",
          "text": [
            "{'penalty': 'l2', 'C': 0.001}\n",
            "0.016181914331041776\n",
            "LogisticRegression(C=0.001)\n",
            "best accuracy : 0.007518796992481203\n"
          ]
        }
      ]
    },
    {
      "cell_type": "code",
      "source": [
        "#Q-10>>\n",
        "# We are executing this question using the above(Q_9) used dataset\n",
        "log_reg  = LogisticRegression(multi_class=\"auto\")\n",
        "log_reg.fit(X_train,y_train)\n",
        "y_pred=log_reg.predict(X_test)\n",
        "print(f\"The accuracy score of the model using one vs one is\",accuracy_score(y_test,y_pred)*100)"
      ],
      "metadata": {
        "colab": {
          "base_uri": "https://localhost:8080/"
        },
        "id": "5F72AwyV15tY",
        "outputId": "bc6efeb7-1105-4880-c517-3176795d4a94"
      },
      "execution_count": 18,
      "outputs": [
        {
          "output_type": "stream",
          "name": "stdout",
          "text": [
            "The accuracy score of the model using one vs one is 0.7518796992481203\n"
          ]
        }
      ]
    },
    {
      "cell_type": "code",
      "source": [
        "#Q-11>>\n",
        "# We are executing this question using the above used dataset\n",
        "X_train,X_test,y_train,y_test=train_test_split(X,y,test_size=0.3,random_state=1)\n",
        "log_reg = LogisticRegression(solver = 'liblinear')\n",
        "log_reg.fit(X_train,y_train)\n",
        "y_pred=log_reg.predict(X_test)\n",
        "print(f\"The accuracy score of the model is\",accuracy_score(y_test,y_pred)*100)\n",
        "from sklearn.metrics import confusion_matrix\n",
        "confusion_matrix(y_test,y_pred)"
      ],
      "metadata": {
        "colab": {
          "base_uri": "https://localhost:8080/"
        },
        "id": "2E-TT6vh65OE",
        "outputId": "d3be1c86-6050-4f01-8211-d497b9054015"
      },
      "execution_count": 19,
      "outputs": [
        {
          "output_type": "stream",
          "name": "stdout",
          "text": [
            "The accuracy score of the model is 0.7518796992481203\n"
          ]
        },
        {
          "output_type": "execute_result",
          "data": {
            "text/plain": [
              "array([[0, 0, 0, ..., 0, 0, 0],\n",
              "       [0, 0, 0, ..., 0, 0, 0],\n",
              "       [0, 0, 0, ..., 0, 0, 0],\n",
              "       ...,\n",
              "       [0, 0, 0, ..., 0, 0, 0],\n",
              "       [0, 0, 0, ..., 0, 0, 0],\n",
              "       [0, 0, 0, ..., 0, 0, 0]])"
            ]
          },
          "metadata": {},
          "execution_count": 19
        }
      ]
    },
    {
      "cell_type": "code",
      "source": [
        "#Q-12>>\n",
        "from sklearn.metrics import precision_score, recall_score, f1_score, accuracy_score\n",
        "from sklearn.datasets import make_classification\n",
        "X, y = make_classification(n_samples=1000, n_features=20, n_classes=2,\n",
        "                           n_informative=2, n_redundant=10, weights=[0.9, 0.1], flip_y=0, random_state=42)\n",
        "X_train, X_test, y_train, y_test = train_test_split(X, y, test_size=0.3, random_state=42)\n",
        "model = LogisticRegression(max_iter=200)\n",
        "model.fit(X_train, y_train)\n",
        "y_pred = model.predict(X_test)\n",
        "precision = precision_score(y_test, y_pred)\n",
        "recall = recall_score(y_test, y_pred)\n",
        "f1 = f1_score(y_test, y_pred)\n",
        "print(f\"Precision: {precision:.2f}\")\n",
        "print(f\"Recall: {recall:.2f}\")\n",
        "print(f\"F1-Score: {f1:.2f}\")"
      ],
      "metadata": {
        "id": "4qL3eACv8es2",
        "colab": {
          "base_uri": "https://localhost:8080/"
        },
        "outputId": "3d93a3a5-65a3-4bd4-9756-5cef5a10fd4c"
      },
      "execution_count": 46,
      "outputs": [
        {
          "output_type": "stream",
          "name": "stdout",
          "text": [
            "Precision: 0.86\n",
            "Recall: 0.53\n",
            "F1-Score: 0.65\n"
          ]
        }
      ]
    },
    {
      "cell_type": "code",
      "source": [
        "#Q-13>>\n",
        "from sklearn.metrics import classification_report\n",
        "X, y = make_classification(n_samples=1000, n_features=20, n_classes=2,\n",
        "                           n_informative=2, n_redundant=10, weights=[0.9, 0.1], flip_y=0, random_state=42)\n",
        "X_train, X_test, y_train, y_test = train_test_split(X, y, test_size=0.3, random_state=42)\n",
        "model = LogisticRegression(max_iter=200, class_weight='balanced')\n",
        "model.fit(X_train, y_train)\n",
        "y_pred = model.predict(X_test)\n",
        "print(classification_report(y_test, y_pred))\n"
      ],
      "metadata": {
        "id": "ExEtfmEt-QRd",
        "colab": {
          "base_uri": "https://localhost:8080/"
        },
        "outputId": "da2df6ba-d4e2-4791-cce1-91b5ad09bacb"
      },
      "execution_count": 47,
      "outputs": [
        {
          "output_type": "stream",
          "name": "stdout",
          "text": [
            "              precision    recall  f1-score   support\n",
            "\n",
            "           0       0.98      0.91      0.95       266\n",
            "           1       0.56      0.88      0.68        34\n",
            "\n",
            "    accuracy                           0.91       300\n",
            "   macro avg       0.77      0.90      0.81       300\n",
            "weighted avg       0.94      0.91      0.92       300\n",
            "\n"
          ]
        }
      ]
    },
    {
      "cell_type": "code",
      "source": [
        "#Q-14>>\n",
        "from sklearn.metrics import accuracy_score, precision_score, recall_score, f1_score\n",
        "from sklearn.impute import SimpleImputer\n",
        "from sklearn.preprocessing import LabelEncoder\n",
        "data = pd.read_csv('titanic.csv')\n",
        "print(data.head())\n",
        "imputer = SimpleImputer(strategy='mean')\n",
        "data['Age'] = imputer.fit_transform(data[['Age']])\n",
        "imputer = SimpleImputer(strategy='most_frequent')\n",
        "data = data.drop(columns=['Cabin', 'Ticket'])\n",
        "label_encoder = LabelEncoder()\n",
        "data['Sex'] = label_encoder.fit_transform(data['Sex'])\n",
        "data = pd.get_dummies(data, columns=['Embarked'], drop_first=True)\n",
        "X = data[['Pclass', 'Sex', 'Age', 'SibSp', 'Parch', 'Fare', 'Embarked_Q', 'Embarked_S']]\n",
        "y = data['Survived']\n",
        "X_train, X_test, y_train, y_test = train_test_split(X, y, test_size=0.3, random_state=42)\n",
        "model = LogisticRegression(solver='liblinear')\n",
        "model.fit(X_train, y_train)\n",
        "y_pred = model.predict(X_test)\n",
        "accuracy = accuracy_score(y_test, y_pred)\n",
        "precision = precision_score(y_test, y_pred)\n",
        "recall = recall_score(y_test, y_pred)\n",
        "f1 = f1_score(y_test, y_pred)\n",
        "print(f\"Accuracy: {accuracy * 100:.2f}%\")\n",
        "print(f\"Precision: {precision:.2f}\")\n",
        "print(f\"Recall: {recall:.2f}\")\n",
        "print(f\"F1-Score: {f1:.2f}\")"
      ],
      "metadata": {
        "colab": {
          "base_uri": "https://localhost:8080/"
        },
        "id": "DxKuOaANAY8Z",
        "outputId": "bec7f39a-0120-4d2b-a222-ef918f359c1d"
      },
      "execution_count": 22,
      "outputs": [
        {
          "output_type": "stream",
          "name": "stdout",
          "text": [
            "   PassengerId  Survived  Pclass  \\\n",
            "0            1         0       3   \n",
            "1            2         1       1   \n",
            "2            3         1       3   \n",
            "3            4         1       1   \n",
            "4            5         0       3   \n",
            "\n",
            "                                                Name     Sex   Age  SibSp  \\\n",
            "0                            Braund, Mr. Owen Harris    male  22.0      1   \n",
            "1  Cumings, Mrs. John Bradley (Florence Briggs Th...  female  38.0      1   \n",
            "2                             Heikkinen, Miss. Laina  female  26.0      0   \n",
            "3       Futrelle, Mrs. Jacques Heath (Lily May Peel)  female  35.0      1   \n",
            "4                           Allen, Mr. William Henry    male  35.0      0   \n",
            "\n",
            "   Parch            Ticket     Fare Cabin Embarked  \n",
            "0      0         A/5 21171   7.2500   NaN        S  \n",
            "1      0          PC 17599  71.2833   C85        C  \n",
            "2      0  STON/O2. 3101282   7.9250   NaN        S  \n",
            "3      0            113803  53.1000  C123        S  \n",
            "4      0            373450   8.0500   NaN        S  \n",
            "Accuracy: 80.22%\n",
            "Precision: 0.80\n",
            "Recall: 0.70\n",
            "F1-Score: 0.75\n"
          ]
        }
      ]
    },
    {
      "cell_type": "code",
      "source": [
        "#Q-15>>\n",
        "from sklearn.datasets import load_iris\n",
        "data = load_iris()\n",
        "X = data.data\n",
        "y = data.target\n",
        "X_train, X_test, y_train, y_test = train_test_split(X, y, test_size=0.3, random_state=1)\n",
        "model = LogisticRegression(solver='liblinear',max_iter = 200)\n",
        "model.fit(X_train, y_train)\n",
        "y_pred = model.predict(X_test)\n",
        "print(\"Before\",accuracy_score(y_test, y_pred))\n",
        "from sklearn.preprocessing import StandardScaler\n",
        "scaler = StandardScaler()\n",
        "X_train_scaled = scaler.fit_transform(X_train)\n",
        "X_test_scaled = scaler.transform(X_test)\n",
        "model_with_scaling = LogisticRegression(solver='liblinear', max_iter=200)\n",
        "model_with_scaling.fit(X_train_scaled, y_train)\n",
        "y_pred_with_scaling = model.predict(X_test_scaled)\n",
        "print(\"After\",accuracy_score(y_test, y_pred_with_scaling))"
      ],
      "metadata": {
        "colab": {
          "base_uri": "https://localhost:8080/"
        },
        "id": "fx01d3T7XZon",
        "outputId": "4c7891c1-6c6a-4f65-fd38-4fcb726769b4"
      },
      "execution_count": 23,
      "outputs": [
        {
          "output_type": "stream",
          "name": "stdout",
          "text": [
            "Before 0.8888888888888888\n",
            "After 0.8444444444444444\n"
          ]
        }
      ]
    },
    {
      "cell_type": "code",
      "source": [
        "#Q-16>>\n",
        "# We are executing this question using the above used dataset\n",
        "\n",
        "from sklearn.metrics import roc_auc_score, roc_curve\n",
        "X_binary = X[y != 2]\n",
        "y_binary = y[y != 2]\n",
        "X_train, X_test, y_train, y_test = train_test_split(X_binary, y_binary, test_size=0.3, random_state=42)\n",
        "model = LogisticRegression(solver='liblinear')\n",
        "model.fit(X_train, y_train)\n",
        "y_probs = model.predict_proba(X_test)[:, 1]\n",
        "roc_auc = roc_auc_score(y_test, y_probs)\n",
        "print(f\"ROC-AUC score: {roc_auc:.2f}\")\n",
        "fpr, tpr, thresholds = roc_curve(y_test, y_probs)\n",
        "plt.figure(figsize=(8, 6))\n",
        "plt.plot(fpr, tpr, color='blue', label=f'ROC curve (area = {roc_auc:.2f})')\n",
        "plt.plot([0, 1], [0, 1], color='red', linestyle='--')  # Diagonal line (no discrimination)\n",
        "plt.xlim([0.0, 1.0])\n",
        "plt.ylim([0.0, 1.05])\n",
        "plt.xlabel('False Positive Rate')\n",
        "plt.ylabel('True Positive Rate')\n",
        "plt.title('Receiver Operating Characteristic (ROC) Curve')\n",
        "plt.legend(loc='lower right')\n",
        "plt.show()"
      ],
      "metadata": {
        "colab": {
          "base_uri": "https://localhost:8080/",
          "height": 581
        },
        "id": "n2bOrK09XrTm",
        "outputId": "af0f15b1-6fb3-42a7-c793-b56e229d1e48"
      },
      "execution_count": 24,
      "outputs": [
        {
          "output_type": "stream",
          "name": "stdout",
          "text": [
            "ROC-AUC score: 1.00\n"
          ]
        },
        {
          "output_type": "display_data",
          "data": {
            "text/plain": [
              "<Figure size 800x600 with 1 Axes>"
            ],
            "image/png": "[encoded data removed]"
          },
          "metadata": {}
        }
      ]
    },
    {
      "cell_type": "markdown",
      "source": [],
      "metadata": {
        "id": "Vv_ky5TKYqiK"
      }
    },
    {
      "cell_type": "code",
      "source": [
        "#Q-17>>>\n",
        "from sklearn.datasets import load_iris\n",
        "data = load_iris()\n",
        "X = data.data\n",
        "y = data.target\n",
        "X_train, X_test, y_train, y_test = train_test_split(X, y, test_size=0.3, random_state=1)\n",
        "model = LogisticRegression(solver='liblinear',max_iter = 200,C=0.5)\n",
        "model.fit(X_train, y_train)\n",
        "y_pred = model.predict(X_test)\n",
        "print(\"THe accuracy score is:\",accuracy_score(y_test, y_pred)*100)"
      ],
      "metadata": {
        "colab": {
          "base_uri": "https://localhost:8080/"
        },
        "id": "qLzUefvJX0e0",
        "outputId": "d1445a1c-2a58-48df-b8b6-3f430799c800"
      },
      "execution_count": 25,
      "outputs": [
        {
          "output_type": "stream",
          "name": "stdout",
          "text": [
            "THe accuracy score is: 84.44444444444444\n"
          ]
        }
      ]
    },
    {
      "cell_type": "code",
      "source": [
        "#Q-18>>\n",
        "# We are executing this question using the above used dataset\n",
        "\n",
        "model = LogisticRegression(solver='lbfgs', max_iter=200, multi_class='ovr')\n",
        "model.fit(X_train, y_train)\n",
        "model.coef_\n",
        "feature_names = data.feature_names\n"
      ],
      "metadata": {
        "id": "8AskZshtYAT2"
      },
      "execution_count": 26,
      "outputs": []
    },
    {
      "cell_type": "code",
      "source": [
        "#Q-19>>\n",
        "# We are executing this question using the above used dataset\n",
        "\n",
        "from sklearn.metrics import cohen_kappa_score\n",
        "kappa_score = cohen_kappa_score(y_test, y_pred)\n",
        "kappa_score*100\n"
      ],
      "metadata": {
        "colab": {
          "base_uri": "https://localhost:8080/"
        },
        "id": "dc42UKDcYDlE",
        "outputId": "c90c61ed-4870-4a84-8e69-8cf09fb1a716"
      },
      "execution_count": 27,
      "outputs": [
        {
          "output_type": "execute_result",
          "data": {
            "text/plain": [
              "77.02407002188184"
            ]
          },
          "metadata": {},
          "execution_count": 27
        }
      ]
    },
    {
      "cell_type": "code",
      "source": [
        "#Q-20>>\n",
        "from sklearn.metrics import precision_recall_curve\n",
        "from sklearn.metrics import average_precision_score\n",
        "from sklearn.datasets import make_classification\n",
        "X, y = make_classification(n_samples=1000, n_features=20, n_classes=2, random_state=42)\n",
        "X_train, X_test, y_train, y_test = train_test_split(X, y, test_size=0.3, random_state=42)\n",
        "model = LogisticRegression(solver='liblinear')\n",
        "model.fit(X_train, y_train)\n",
        "y_scores = model.predict_proba(X_test)[:, 1]\n",
        "precision, recall, _ = precision_recall_curve(y_test, y_scores)\n",
        "plt.figure(figsize=(8, 6))\n",
        "plt.plot(recall, precision, color='b', label='Precision-Recall curve')\n",
        "plt.xlabel('Recall')\n",
        "plt.ylabel('Precision')\n",
        "plt.title('Precision-Recall Curve')\n",
        "plt.legend()\n",
        "plt.grid(True)\n",
        "plt.show()\n",
        "avg_precision = average_precision_score(y_test, y_scores)\n",
        "print(f'Average Precision Score: {avg_precision:.4f}')"
      ],
      "metadata": {
        "id": "Ap8FxSmHSJ6e",
        "colab": {
          "base_uri": "https://localhost:8080/",
          "height": 581
        },
        "outputId": "4f4c87d8-3d60-4a6c-d883-6cd40ca072f2"
      },
      "execution_count": 28,
      "outputs": [
        {
          "output_type": "display_data",
          "data": {
            "text/plain": [
              "<Figure size 800x600 with 1 Axes>"
            ],
            "image/png": "[encoded data removed]"
          },
          "metadata": {}
        },
        {
          "output_type": "stream",
          "name": "stdout",
          "text": [
            "Average Precision Score: 0.9276\n"
          ]
        }
      ]
    },
    {
      "cell_type": "code",
      "source": [
        "#Q-21>>\n",
        "from sklearn.datasets import make_classification\n",
        "X,y = make_classification(n_samples=1000,n_features=20,n_classes=2,random_state=1)\n",
        "X_train,X_test,y_train,y_test=train_test_split(X,y,test_size=0.3,random_state=1)\n",
        "solvers = ['liblinear','saga','lbfgs']\n",
        "accuracies = {}\n",
        "for i in solvers:\n",
        "  model = LogisticRegression(solver=i , max_iter=200)\n",
        "  model.fit(X_train,y_train)\n",
        "  y_pred = model.predict(X_test)\n",
        "  accuracy = accuracy_score(y_test,y_pred)\n",
        "  accuracies[i] = accuracy\n",
        "  print(f\"the accuracies with respect to the solvers is {i} : {accuracy}\")\n",
        "plt.bar(accuracies.keys(), accuracies.values(), color=['blue', 'green', 'red'])\n",
        "plt.xlabel('Solver')\n",
        "plt.ylabel('Accuracy')\n",
        "plt.title('Logistic Regression Accuracy with Different Solvers')\n",
        "plt.show()"
      ],
      "metadata": {
        "id": "zk0OC3QhSLXZ",
        "colab": {
          "base_uri": "https://localhost:8080/",
          "height": 524
        },
        "outputId": "a7b6febd-6790-4b71-c2da-886c30b7e929"
      },
      "execution_count": 29,
      "outputs": [
        {
          "output_type": "stream",
          "name": "stdout",
          "text": [
            "the accuracies with respect to the solvers is liblinear : 0.84\n",
            "the accuracies with respect to the solvers is saga : 0.84\n",
            "the accuracies with respect to the solvers is lbfgs : 0.84\n"
          ]
        },
        {
          "output_type": "display_data",
          "data": {
            "text/plain": [
              "<Figure size 640x480 with 1 Axes>"
            ],
            "image/png": "[encoded data removed]"
          },
          "metadata": {}
        }
      ]
    },
    {
      "cell_type": "code",
      "source": [
        "#Q-22>>\n",
        "from sklearn.metrics import matthews_corrcoef\n",
        "X, y = make_classification(n_samples=1000, n_features=20, n_classes=2, random_state=42)\n",
        "X_train, X_test, y_train, y_test = train_test_split(X, y, test_size=0.3, random_state=42)\n",
        "model = LogisticRegression(solver='liblinear')\n",
        "model.fit(X_train, y_train)\n",
        "y_pred = model.predict(X_test)\n",
        "mcc = matthews_corrcoef(y_test, y_pred)\n",
        "print(f\"Matthews Correlation Coefficient (MCC): {mcc:.4f}\")"
      ],
      "metadata": {
        "colab": {
          "base_uri": "https://localhost:8080/"
        },
        "id": "EzUFRyozx3Bd",
        "outputId": "a94df247-5ecf-4bd4-cf4e-18f3db7f201c"
      },
      "execution_count": 30,
      "outputs": [
        {
          "output_type": "stream",
          "name": "stdout",
          "text": [
            "Matthews Correlation Coefficient (MCC): 0.7015\n"
          ]
        }
      ]
    },
    {
      "cell_type": "code",
      "source": [
        "#Q-23>>\n",
        "X,y = make_classification(n_samples=1000,n_features = 20,n_classes = 2,random_state = 1)\n",
        "X_train,X_test,y_train,y_test = train_test_split(X,y,test_size = 0.3,random_state = 1)\n",
        "model_raw = LogisticRegression(solver = 'liblinear')\n",
        "model_raw.fit(X_train,y_train)\n",
        "y_pred_raw = model_raw.predict(X_test)\n",
        "accuracy_raw = accuracy_score(y_test,y_pred_raw)\n",
        "print(f\"The accuracy score of the raw model is\",accuracy_score)\n",
        "\n",
        "### for standardized data\n",
        "from sklearn.preprocessing import StandardScaler\n",
        "scaler = StandardScaler()\n",
        "X_train_scaled = scaler.fit_transform(X_train)\n",
        "X_test_scaled = scaler.transform(X_test)\n",
        "model_scaled = LogisticRegression(solver = 'liblinear')\n",
        "model_scaled.fit(X_train_scaled,y_train)\n",
        "y_pred_scaled = model_scaled.predict(X_test_scaled)\n",
        "accuracy_scaled=accuracy_score(y_test,y_pred_scaled)\n",
        "print(f\"The accuracy score of the standardized model is\",accuracy_scaled)\n",
        "accuracies = {'Raw (Unscaled)': accuracy_raw, 'Standardized': accuracy_scaled}\n",
        "plt.bar(accuracies.keys(), accuracies.values(), color=['blue', 'green'])\n",
        "plt.ylabel('Accuracy')\n",
        "plt.title('Accuracy Comparison: Raw vs Standardized Data')\n",
        "plt.show()"
      ],
      "metadata": {
        "colab": {
          "base_uri": "https://localhost:8080/",
          "height": 487
        },
        "id": "zWnl7lAIzHDD",
        "outputId": "3833962b-58b8-4765-84af-115079fbd3c7"
      },
      "execution_count": 31,
      "outputs": [
        {
          "output_type": "stream",
          "name": "stdout",
          "text": [
            "The accuracy score of the raw model is <function accuracy_score at 0x7c2b36ecc2c0>\n",
            "The accuracy score of the standardized model is 0.84\n"
          ]
        },
        {
          "output_type": "display_data",
          "data": {
            "text/plain": [
              "<Figure size 640x480 with 1 Axes>"
            ],
            "image/png": "[encoded data removed]"
          },
          "metadata": {}
        }
      ]
    },
    {
      "cell_type": "code",
      "source": [
        "#Q-24>>>\n",
        "param_grid = {'C': np.logspace(-4, 4, 20)}\n",
        "mod = LogisticRegression(solver='liblinear')\n",
        "grid_search = GridSearchCV(estimator=mod, param_grid=param_grid,scoring = 'accuracy',cv=5,verbose = 3)\n",
        "grid_search.fit(X_train, y_train)\n",
        "grid_search.best_params_\n",
        "grid_search.best_score_\n",
        "best_model = grid_search.best_estimator_\n",
        "y_pred = best_model.predict(X_test)\n",
        "accuracy_score(y_test,y_pred)\n",
        "print(best_model)"
      ],
      "metadata": {
        "colab": {
          "base_uri": "https://localhost:8080/"
        },
        "id": "ZoD89aynBVhi",
        "outputId": "6404e8c6-4f24-45ce-c01e-4ee2ead22319"
      },
      "execution_count": 32,
      "outputs": [
        {
          "output_type": "stream",
          "name": "stdout",
          "text": [
            "Fitting 5 folds for each of 20 candidates, totalling 100 fits\n",
            "[CV 1/5] END ..........................C=0.0001;, score=0.771 total time=   0.0s\n",
            "[CV 2/5] END ..........................C=0.0001;, score=0.807 total time=   0.0s\n",
            "[CV 3/5] END ..........................C=0.0001;, score=0.757 total time=   0.0s\n",
            "[CV 4/5] END ..........................C=0.0001;, score=0.814 total time=   0.0s\n",
            "[CV 5/5] END ..........................C=0.0001;, score=0.821 total time=   0.0s\n",
            "[CV 1/5] END ..........C=0.00026366508987303583;, score=0.771 total time=   0.0s\n",
            "[CV 2/5] END ..........C=0.00026366508987303583;, score=0.821 total time=   0.0s\n",
            "[CV 3/5] END ..........C=0.00026366508987303583;, score=0.771 total time=   0.0s\n",
            "[CV 4/5] END ..........C=0.00026366508987303583;, score=0.821 total time=   0.0s\n",
            "[CV 5/5] END ..........C=0.00026366508987303583;, score=0.829 total time=   0.0s\n",
            "[CV 1/5] END ...........C=0.0006951927961775605;, score=0.779 total time=   0.0s\n",
            "[CV 2/5] END ...........C=0.0006951927961775605;, score=0.836 total time=   0.0s\n",
            "[CV 3/5] END ...........C=0.0006951927961775605;, score=0.800 total time=   0.0s\n",
            "[CV 4/5] END ...........C=0.0006951927961775605;, score=0.829 total time=   0.0s\n",
            "[CV 5/5] END ...........C=0.0006951927961775605;, score=0.836 total time=   0.0s\n",
            "[CV 1/5] END ...........C=0.0018329807108324356;, score=0.814 total time=   0.0s\n",
            "[CV 2/5] END ...........C=0.0018329807108324356;, score=0.836 total time=   0.0s\n",
            "[CV 3/5] END ...........C=0.0018329807108324356;, score=0.821 total time=   0.0s\n",
            "[CV 4/5] END ...........C=0.0018329807108324356;, score=0.814 total time=   0.0s\n",
            "[CV 5/5] END ...........C=0.0018329807108324356;, score=0.843 total time=   0.0s\n",
            "[CV 1/5] END ............C=0.004832930238571752;, score=0.836 total time=   0.0s\n",
            "[CV 2/5] END ............C=0.004832930238571752;, score=0.879 total time=   0.0s\n",
            "[CV 3/5] END ............C=0.004832930238571752;, score=0.850 total time=   0.0s\n",
            "[CV 4/5] END ............C=0.004832930238571752;, score=0.814 total time=   0.0s\n",
            "[CV 5/5] END ............C=0.004832930238571752;, score=0.850 total time=   0.0s\n",
            "[CV 1/5] END ............C=0.012742749857031334;, score=0.843 total time=   0.0s\n",
            "[CV 2/5] END ............C=0.012742749857031334;, score=0.893 total time=   0.0s\n",
            "[CV 3/5] END ............C=0.012742749857031334;, score=0.857 total time=   0.0s\n",
            "[CV 4/5] END ............C=0.012742749857031334;, score=0.807 total time=   0.0s\n",
            "[CV 5/5] END ............C=0.012742749857031334;, score=0.821 total time=   0.0s\n",
            "[CV 1/5] END .............C=0.03359818286283781;, score=0.843 total time=   0.0s\n",
            "[CV 2/5] END .............C=0.03359818286283781;, score=0.893 total time=   0.0s\n",
            "[CV 3/5] END .............C=0.03359818286283781;, score=0.857 total time=   0.0s\n",
            "[CV 4/5] END .............C=0.03359818286283781;, score=0.821 total time=   0.0s\n",
            "[CV 5/5] END .............C=0.03359818286283781;, score=0.807 total time=   0.0s\n",
            "[CV 1/5] END .............C=0.08858667904100823;, score=0.843 total time=   0.0s\n",
            "[CV 2/5] END .............C=0.08858667904100823;, score=0.879 total time=   0.0s\n",
            "[CV 3/5] END .............C=0.08858667904100823;, score=0.843 total time=   0.0s\n",
            "[CV 4/5] END .............C=0.08858667904100823;, score=0.814 total time=   0.0s\n",
            "[CV 5/5] END .............C=0.08858667904100823;, score=0.807 total time=   0.0s\n",
            "[CV 1/5] END .............C=0.23357214690901212;, score=0.843 total time=   0.0s\n",
            "[CV 2/5] END .............C=0.23357214690901212;, score=0.864 total time=   0.0s\n",
            "[CV 3/5] END .............C=0.23357214690901212;, score=0.850 total time=   0.0s\n",
            "[CV 4/5] END .............C=0.23357214690901212;, score=0.829 total time=   0.0s\n",
            "[CV 5/5] END .............C=0.23357214690901212;, score=0.807 total time=   0.0s\n",
            "[CV 1/5] END ...............C=0.615848211066026;, score=0.850 total time=   0.0s\n",
            "[CV 2/5] END ...............C=0.615848211066026;, score=0.857 total time=   0.0s\n",
            "[CV 3/5] END ...............C=0.615848211066026;, score=0.850 total time=   0.0s\n",
            "[CV 4/5] END ...............C=0.615848211066026;, score=0.829 total time=   0.0s\n",
            "[CV 5/5] END ...............C=0.615848211066026;, score=0.807 total time=   0.0s\n",
            "[CV 1/5] END ...............C=1.623776739188721;, score=0.850 total time=   0.0s\n",
            "[CV 2/5] END ...............C=1.623776739188721;, score=0.857 total time=   0.0s\n",
            "[CV 3/5] END ...............C=1.623776739188721;, score=0.850 total time=   0.0s\n",
            "[CV 4/5] END ...............C=1.623776739188721;, score=0.829 total time=   0.0s\n",
            "[CV 5/5] END ...............C=1.623776739188721;, score=0.821 total time=   0.0s\n",
            "[CV 1/5] END ...............C=4.281332398719396;, score=0.850 total time=   0.0s\n",
            "[CV 2/5] END ...............C=4.281332398719396;, score=0.857 total time=   0.0s\n",
            "[CV 3/5] END ...............C=4.281332398719396;, score=0.850 total time=   0.0s\n",
            "[CV 4/5] END ...............C=4.281332398719396;, score=0.829 total time=   0.0s\n",
            "[CV 5/5] END ...............C=4.281332398719396;, score=0.821 total time=   0.0s\n",
            "[CV 1/5] END ..............C=11.288378916846883;, score=0.850 total time=   0.0s\n",
            "[CV 2/5] END ..............C=11.288378916846883;, score=0.857 total time=   0.0s\n",
            "[CV 3/5] END ..............C=11.288378916846883;, score=0.850 total time=   0.0s\n",
            "[CV 4/5] END ..............C=11.288378916846883;, score=0.829 total time=   0.0s\n",
            "[CV 5/5] END ..............C=11.288378916846883;, score=0.821 total time=   0.0s\n",
            "[CV 1/5] END ..............C=29.763514416313132;, score=0.850 total time=   0.0s\n",
            "[CV 2/5] END ..............C=29.763514416313132;, score=0.857 total time=   0.0s\n",
            "[CV 3/5] END ..............C=29.763514416313132;, score=0.850 total time=   0.0s\n",
            "[CV 4/5] END ..............C=29.763514416313132;, score=0.829 total time=   0.0s\n",
            "[CV 5/5] END ..............C=29.763514416313132;, score=0.821 total time=   0.0s\n",
            "[CV 1/5] END ...............C=78.47599703514607;, score=0.850 total time=   0.0s\n",
            "[CV 2/5] END ...............C=78.47599703514607;, score=0.857 total time=   0.0s\n",
            "[CV 3/5] END ...............C=78.47599703514607;, score=0.850 total time=   0.0s\n",
            "[CV 4/5] END ...............C=78.47599703514607;, score=0.829 total time=   0.0s\n",
            "[CV 5/5] END ...............C=78.47599703514607;, score=0.821 total time=   0.0s\n",
            "[CV 1/5] END ................C=206.913808111479;, score=0.850 total time=   0.0s\n",
            "[CV 2/5] END ................C=206.913808111479;, score=0.857 total time=   0.0s\n",
            "[CV 3/5] END ................C=206.913808111479;, score=0.850 total time=   0.0s\n",
            "[CV 4/5] END ................C=206.913808111479;, score=0.829 total time=   0.0s\n",
            "[CV 5/5] END ................C=206.913808111479;, score=0.821 total time=   0.0s\n",
            "[CV 1/5] END ...............C=545.5594781168514;, score=0.850 total time=   0.0s\n",
            "[CV 2/5] END ...............C=545.5594781168514;, score=0.857 total time=   0.0s\n",
            "[CV 3/5] END ...............C=545.5594781168514;, score=0.850 total time=   0.0s\n",
            "[CV 4/5] END ...............C=545.5594781168514;, score=0.829 total time=   0.0s\n",
            "[CV 5/5] END ...............C=545.5594781168514;, score=0.821 total time=   0.0s\n",
            "[CV 1/5] END ................C=1438.44988828766;, score=0.850 total time=   0.0s\n",
            "[CV 2/5] END ................C=1438.44988828766;, score=0.857 total time=   0.0s\n",
            "[CV 3/5] END ................C=1438.44988828766;, score=0.850 total time=   0.0s\n",
            "[CV 4/5] END ................C=1438.44988828766;, score=0.829 total time=   0.0s\n",
            "[CV 5/5] END ................C=1438.44988828766;, score=0.821 total time=   0.0s\n",
            "[CV 1/5] END ...............C=3792.690190732246;, score=0.850 total time=   0.0s\n",
            "[CV 2/5] END ...............C=3792.690190732246;, score=0.857 total time=   0.0s\n",
            "[CV 3/5] END ...............C=3792.690190732246;, score=0.850 total time=   0.0s\n",
            "[CV 4/5] END ...............C=3792.690190732246;, score=0.829 total time=   0.0s\n",
            "[CV 5/5] END ...............C=3792.690190732246;, score=0.821 total time=   0.0s\n",
            "[CV 1/5] END .........................C=10000.0;, score=0.850 total time=   0.0s\n",
            "[CV 2/5] END .........................C=10000.0;, score=0.857 total time=   0.0s\n",
            "[CV 3/5] END .........................C=10000.0;, score=0.850 total time=   0.0s\n",
            "[CV 4/5] END .........................C=10000.0;, score=0.829 total time=   0.0s\n",
            "[CV 5/5] END .........................C=10000.0;, score=0.821 total time=   0.0s\n",
            "LogisticRegression(C=0.004832930238571752, solver='liblinear')\n"
          ]
        }
      ]
    },
    {
      "cell_type": "code",
      "source": [
        "#Q-25>>>\n",
        "import joblib\n",
        "df = load_iris()\n",
        "X=df.data\n",
        "y=df.target\n",
        "X=pd.DataFrame(X)\n",
        "y=pd.DataFrame(y)\n",
        "X_train,X_test,y_train,y_test=train_test_split(X,y,test_size=0.3,random_state=1)\n",
        "modde = LogisticRegression(solver = 'liblinear')\n",
        "modde.fit(X_train,y_train)\n",
        "joblib.dump(modde, 'logistic_regression_model.pkl')\n",
        "loaded_model=joblib.load('logistic_regression_model.pkl')\n",
        "y_pred=loaded_model.predict(X_test)\n",
        "print(\"Predictions on the test set:\", y_pred)\n",
        "accuracy = loaded_model.score(X_test, y_test)\n",
        "print(f\"Model Accuracy: {accuracy:.2f}\")"
      ],
      "metadata": {
        "id": "Nf_sGeCjDxiw",
        "colab": {
          "base_uri": "https://localhost:8080/"
        },
        "outputId": "c9ff87e3-749c-4f93-a411-f407a6d82167"
      },
      "execution_count": 45,
      "outputs": [
        {
          "output_type": "stream",
          "name": "stdout",
          "text": [
            "Predictions on the test set: [0 1 1 0 2 2 2 0 0 2 1 0 2 1 2 0 1 2 0 0 1 2 2 0 2 1 0 0 1 2 1 2 1 2 2 0 1\n",
            " 0 1 2 2 0 2 2 1]\n",
            "Model Accuracy: 0.89\n"
          ]
        }
      ]
    },
    {
      "cell_type": "code",
      "source": [],
      "metadata": {
        "id": "VS6R6dtZMF3Z"
      },
      "execution_count": null,
      "outputs": []
    }
  ]
}