{
  "nbformat": 4,
  "nbformat_minor": 0,
  "metadata": {
    "colab": {
      "provenance": [],
      "authorship_tag": "ABX9TyO2jMgQZ+YZv6VWuZ3nMjTG",
      "include_colab_link": true
    },
    "kernelspec": {
      "name": "python3",
      "display_name": "Python 3"
    },
    "language_info": {
      "name": "python"
    }
  },
  "cells": [
    {
      "cell_type": "markdown",
      "metadata": {
        "id": "view-in-github",
        "colab_type": "text"
      },
      "source": [
        "<a href=\"https://colab.research.google.com/github/Harshil1450/Harshil/blob/main/Harshil's%203rd%20assignment.ipynb\" target=\"_parent\"><img src=\"https://colab.research.google.com/assets/colab-badge.svg\" alt=\"Open In Colab\"/></a>"
      ]
    },
    {
      "cell_type": "code",
      "execution_count": 20,
      "metadata": {
        "colab": {
          "base_uri": "https://localhost:8080/"
        },
        "id": "n3fb3RJ_1B43",
        "outputId": "ce9f144c-6a3b-493f-eb47-a547b280c09d"
      },
      "outputs": [
        {
          "output_type": "stream",
          "name": "stdout",
          "text": [
            "Enter a string : Harry\n",
            "The reversed string is : yrraH\n"
          ]
        }
      ],
      "source": [
        "#1.\n",
        "string = input(\"Enter a string : \")\n",
        "print(f\"The reversed string is : {(string[::-1])}\")\n",
        "\n"
      ]
    },
    {
      "cell_type": "code",
      "source": [
        "#2.\n",
        "def count_vowels(string):\n",
        "  vowels=\"aeiouAEIOU\"\n",
        "  count=0\n",
        "  for char in string:\n",
        "    if char in vowels:\n",
        "      count+=1\n",
        "  return count\n",
        "string = input(\"Enter a string : \")\n",
        "vowel_count = count_vowels(string)\n",
        "print(f\"the number of vowels in the string are {vowel_count}\")"
      ],
      "metadata": {
        "id": "dPFrSVUw13MB",
        "colab": {
          "base_uri": "https://localhost:8080/"
        },
        "outputId": "29739fb9-da33-44f4-9553-b06d0fddf9f2"
      },
      "execution_count": 25,
      "outputs": [
        {
          "output_type": "stream",
          "name": "stdout",
          "text": [
            "Enter a string : harshil\n",
            "the number of vowels in the string are 2\n"
          ]
        }
      ]
    },
    {
      "cell_type": "code",
      "source": [
        "#3.\n",
        "def palindrome(string):\n",
        "  string = input(\"Enter the string : \")\n",
        "  if string == string[::-1]:\n",
        "    print(\"The string is palindrome\")\n",
        "  else:\n",
        "    print(\"The string is not Palindrome\")\n",
        "palindrome(string)"
      ],
      "metadata": {
        "id": "dxfIQ9U6dIFk"
      },
      "execution_count": null,
      "outputs": []
    },
    {
      "cell_type": "code",
      "source": [
        "#4.\n",
        "def anagram(s1,s2):\n",
        "  return sorted(s1) == sorted(s2)\n",
        "str1 = input(\"Enter string1 : \")\n",
        "str2 = input(\"Enter string2 : \")\n",
        "if anagram(str1,str2):\n",
        "  print(\"The strings are anagrams\")\n",
        "else:\n",
        "  print(\"The string are not Anagrams\")\n",
        "\n"
      ],
      "metadata": {
        "id": "ejirTDG7wg8n"
      },
      "execution_count": null,
      "outputs": []
    },
    {
      "cell_type": "code",
      "source": [
        "#5.\n",
        "text = \"This is a simple example. This example shows how to find all occurrences.\"\n",
        "substring = \"example\"\n",
        "print([i for i in range(len(text)) if text.startswith(substring,i)])"
      ],
      "metadata": {
        "colab": {
          "base_uri": "https://localhost:8080/"
        },
        "id": "8NPQD9ZAHcVo",
        "outputId": "b2751a7c-af77-4da7-a1ae-7a41640d37eb"
      },
      "execution_count": null,
      "outputs": [
        {
          "output_type": "stream",
          "name": "stdout",
          "text": [
            "[17, 31]\n"
          ]
        }
      ]
    },
    {
      "cell_type": "code",
      "source": [
        "#6.\n",
        "def compress_string(s):\n",
        "    return ''.join(f\"{s[i]}{len(list(g))}\" for i, g in enumerate([list(g) for k, g in groupby(s)]))\n",
        "\n",
        "from itertools import groupby\n",
        "\n",
        "s = \"aaabbbccdaaa\"\n",
        "print(compress_string(s))"
      ],
      "metadata": {
        "colab": {
          "base_uri": "https://localhost:8080/"
        },
        "id": "CWO49J8jJgBg",
        "outputId": "cdae3616-cf5e-4e1c-af5f-e812dfd9a5f6"
      },
      "execution_count": null,
      "outputs": [
        {
          "output_type": "stream",
          "name": "stdout",
          "text": [
            "a3a3a2b1b3\n"
          ]
        }
      ]
    },
    {
      "cell_type": "code",
      "source": [
        "#7.\n",
        "def has_unique_characters(s):\n",
        "    return len(set(s)) == len(s)\n",
        "input_string = input(\"Enter the string  : \")\n",
        "result = has_unique_characters(input_string)\n",
        "print(f\"'{input_string}' has all unique characters: {result}\")\n"
      ],
      "metadata": {
        "colab": {
          "base_uri": "https://localhost:8080/"
        },
        "id": "_Ap5Al_mJ4uk",
        "outputId": "c002a671-1fa7-4b4a-8126-6731793749ea"
      },
      "execution_count": null,
      "outputs": [
        {
          "output_type": "stream",
          "name": "stdout",
          "text": [
            "Enter the string  : harry\n",
            "'harry' has all unique characters: False\n"
          ]
        }
      ]
    },
    {
      "cell_type": "code",
      "source": [
        "#8.\n",
        "S1 = input(\"Enter the string : \")\n",
        "def to_uppercase(S1):\n",
        "  return S1.upper()\n",
        "print(to_uppercase(S1))\n",
        "\n",
        "def to_lowercase(S1):\n",
        "  return S1.lower()\n",
        "print(to_lowercase(S1))\n"
      ],
      "metadata": {
        "colab": {
          "base_uri": "https://localhost:8080/"
        },
        "id": "anWL3L0lOeEw",
        "outputId": "b979b354-fed3-4269-f1f4-586acf828335"
      },
      "execution_count": null,
      "outputs": [
        {
          "output_type": "stream",
          "name": "stdout",
          "text": [
            "Enter the string : harry\n",
            "HARRY\n",
            "harry\n"
          ]
        }
      ]
    },
    {
      "cell_type": "code",
      "source": [
        "#9.\n",
        "s = input(\"Enter a string: \")\n",
        "word_count = len(s.split())\n",
        "print(word_count)"
      ],
      "metadata": {
        "colab": {
          "base_uri": "https://localhost:8080/"
        },
        "id": "QtMzwzsaRdiX",
        "outputId": "b6d6f62e-69ff-481d-bd34-8fd5a2da5f59"
      },
      "execution_count": 26,
      "outputs": [
        {
          "output_type": "stream",
          "name": "stdout",
          "text": [
            "Enter a string: Harshil'\n",
            "1\n"
          ]
        }
      ]
    },
    {
      "cell_type": "code",
      "source": [
        "#10.\n",
        "s1 = input(\"Enter the first string: \")\n",
        "s2 = input(\"Enter the second string: \")\n",
        "\n",
        "result = ''.join([s1, s2])\n",
        "print(result)"
      ],
      "metadata": {
        "colab": {
          "base_uri": "https://localhost:8080/"
        },
        "id": "dBKEo-NaRnfE",
        "outputId": "d69cbf1a-d76c-44cb-b232-42770346c8ed"
      },
      "execution_count": null,
      "outputs": [
        {
          "output_type": "stream",
          "name": "stdout",
          "text": [
            "Enter the first string: Harshil\n",
            "Enter the second string: Baheti\n",
            "HarshilBaheti\n"
          ]
        }
      ]
    },
    {
      "cell_type": "code",
      "source": [
        "#11.\n",
        "a = input(\"Enter the list elements: \").split()\n",
        "e = input(\"Enter the element to remove: \")\n",
        "\n",
        "a = [x for x in a if x!=e]\n",
        "print(a)"
      ],
      "metadata": {
        "colab": {
          "base_uri": "https://localhost:8080/"
        },
        "id": "m-lfzL2cT2fI",
        "outputId": "94bce5d5-d40f-426c-d603-93f7761b7fb9"
      },
      "execution_count": null,
      "outputs": [
        {
          "output_type": "stream",
          "name": "stdout",
          "text": [
            "Enter the list elements: 123456\n",
            "Enter the element to remove: 123456\n",
            "[]\n"
          ]
        }
      ]
    },
    {
      "cell_type": "code",
      "source": [
        "#12.\n",
        "a = list(map(int, input().split()))\n",
        "print(sorted(set(a))[-2])\n"
      ],
      "metadata": {
        "colab": {
          "base_uri": "https://localhost:8080/"
        },
        "id": "kht8fkCrWGAJ",
        "outputId": "96667496-4e4f-41f9-bc94-f4447b36d981"
      },
      "execution_count": null,
      "outputs": [
        {
          "output_type": "stream",
          "name": "stdout",
          "text": [
            "1 2 3 4 5 \n",
            "4\n"
          ]
        }
      ]
    },
    {
      "cell_type": "code",
      "source": [
        "#13.\n",
        "from collections import Counter\n",
        "def count_elements(lst):\n",
        "    return dict(Counter(lst))\n",
        "example_list = ['apple', 'banana', 'apple', 'orange', 'banana', 'apple']\n",
        "element_counts = count_elements(example_list)\n",
        "print(element_counts)"
      ],
      "metadata": {
        "id": "_7QPVmetlR-u"
      },
      "execution_count": null,
      "outputs": []
    },
    {
      "cell_type": "code",
      "source": [
        "#14.\n",
        "a = list(map(int, input(\"Enter the list elements: \").split()))\n",
        "\n",
        "start, end = 0, len(a) - 1\n",
        "\n",
        "while start < end:\n",
        "    a[start], a[end] = a[end], a[start]\n",
        "    start += 1\n",
        "    end -=1\n",
        "\n",
        "print(a)"
      ],
      "metadata": {
        "colab": {
          "base_uri": "https://localhost:8080/"
        },
        "id": "69FVS2OTYpIj",
        "outputId": "4b6f48ec-74ff-43a5-99f2-712e2fb13967"
      },
      "execution_count": 27,
      "outputs": [
        {
          "output_type": "stream",
          "name": "stdout",
          "text": [
            "Enter the list elements: 1 2 4 5 6\n",
            "[6, 5, 4, 2, 1]\n"
          ]
        }
      ]
    },
    {
      "cell_type": "code",
      "source": [
        "#15.\n",
        "a = input(\"Enter the list elements: \").split()\n",
        "unique = []\n",
        "[unique.append(x) for x in a if x not in unique]\n",
        "print(unique)"
      ],
      "metadata": {
        "colab": {
          "base_uri": "https://localhost:8080/"
        },
        "id": "Y7fa95kGcvzj",
        "outputId": "edadb64f-04e8-4923-d24f-de547e4f45f4"
      },
      "execution_count": 28,
      "outputs": [
        {
          "output_type": "stream",
          "name": "stdout",
          "text": [
            "Enter the list elements:  1 2 45 63 \n",
            "['1', '2', '45', '63']\n"
          ]
        }
      ]
    },
    {
      "cell_type": "code",
      "source": [
        "#16.\n",
        "a = list(map(int, input(\"Enter the list elements: \").split()))\n",
        "\n",
        "ascending = all(a[i] <= a[i + 1] for i in range(len(a) - 1))\n",
        "descending = all(a[i] >= a[i + 1] for i in range(len(a) - 1))\n",
        "\n",
        "if ascending:\n",
        "    print(\"Sorted in ascending order\")\n",
        "elif descending:\n",
        "    print(\"Sorted in descending order\")\n",
        "else:\n",
        "    print(\"Not sorted\")"
      ],
      "metadata": {
        "colab": {
          "base_uri": "https://localhost:8080/"
        },
        "id": "kAAD9Bw7dIk3",
        "outputId": "611ea025-148f-4740-f8aa-d4644b6eacfb"
      },
      "execution_count": 29,
      "outputs": [
        {
          "output_type": "stream",
          "name": "stdout",
          "text": [
            "Sorted in ascending order\n"
          ]
        }
      ]
    },
    {
      "cell_type": "code",
      "source": [
        "#17.\n",
        "def merge_sorted_lists(list1, list2):\n",
        "    merged = []\n",
        "    i = j = 0\n",
        "\n",
        "    while i < len(list1) and j < len(list2):\n",
        "        if list1[i] <= list2[j]:\n",
        "            merged.append(list1[i])\n",
        "            i += 1\n",
        "        else:\n",
        "            merged.append(list2[j])\n",
        "            j += 1\n",
        "\n",
        "    merged.extend(list1[i:])\n",
        "    merged.extend(list2[j:])\n",
        "\n",
        "    return merged\n",
        "\n",
        "list1 = list(map(int, input(\"Enter the first sorted list: \").split()))\n",
        "list2 = list(map(int, input(\"Enter the second sorted list: \").split()))\n",
        "\n",
        "print(merge_sorted_lists(list1, list2))"
      ],
      "metadata": {
        "colab": {
          "base_uri": "https://localhost:8080/"
        },
        "id": "v1FfCkyUdg8s",
        "outputId": "7a3c2715-6a60-43e5-8aeb-b0dea99ce0cc"
      },
      "execution_count": null,
      "outputs": [
        {
          "name": "stdout",
          "output_type": "stream",
          "text": [
            "Enter the first sorted list:  54 2 3 6  4 7 \n"
          ]
        }
      ]
    },
    {
      "cell_type": "code",
      "source": [
        "#18.\n",
        "list1 = list(map(int, input(\"Enter the first list: \").split()))\n",
        "list2 = list(map(int, input(\"Enter the second list: \").split()))\n",
        "\n",
        "intersection = []\n",
        "for item in list1:\n",
        "    if item in list2 and item not in intersection:\n",
        "        intersection.append(item)\n",
        "\n",
        "print(intersection)"
      ],
      "metadata": {
        "id": "qUPDYAhUdvY-"
      },
      "execution_count": null,
      "outputs": []
    },
    {
      "cell_type": "code",
      "source": [
        "#19.\n",
        "import ast\n",
        "list1 = ast.literal_eval(input(\"Enter the first list: \"))\n",
        "list2 = ast.literal_eval(input(\"Enter the second list: \"))\n",
        "union = []\n",
        "for item in list1:\n",
        "    if item not in union:\n",
        "        union.append(item)\n",
        "for item in list2:\n",
        "    if item not in union:\n",
        "        union.append(item)\n",
        "print(union)\n"
      ],
      "metadata": {
        "id": "-Z9dEcO5eygR"
      },
      "execution_count": null,
      "outputs": []
    },
    {
      "cell_type": "code",
      "source": [
        "#20.\n",
        "import random\n",
        "\n",
        "def shuffle_list(lst):\n",
        "    n = len(lst)\n",
        "    for i in range(n - 1, 0, -1):\n",
        "        j = random.randint(0, i)\n",
        "        lst[i], lst[j] = lst[j], lst[i]\n",
        "\n",
        "    return lst\n",
        "\n",
        "lst = eval(input(\"Enter the list to shuffle: \"))\n",
        "print(shuffle_list(lst))"
      ],
      "metadata": {
        "id": "qgN2IB38f4oq"
      },
      "execution_count": null,
      "outputs": []
    },
    {
      "cell_type": "code",
      "source": [
        "#21.\n",
        "tuple1 = eval(input(\"Enter the first tuple: \"))\n",
        "tuple2 = eval(input(\"Enter the second tuple: \"))\n",
        "\n",
        "common_elements = tuple(item for item in tuple1 if item in tuple2)\n",
        "\n",
        "print(common_elements)"
      ],
      "metadata": {
        "id": "Gx1J4a-NiHgr"
      },
      "execution_count": null,
      "outputs": []
    },
    {
      "cell_type": "code",
      "source": [
        "#22.\n",
        "set1 = set(map(int, input(\"Enter the first set of integers separated by commas: \").split(',')))\n",
        "set2 = set(map(int, input(\"Enter the second set of integers separated by commas: \").split(',')))\n",
        "\n",
        "intersection = set1 & set2\n",
        "\n",
        "print(intersection)\n",
        "\n"
      ],
      "metadata": {
        "id": "rvwuGHOOi8U7"
      },
      "execution_count": null,
      "outputs": []
    },
    {
      "cell_type": "code",
      "source": [
        "#23.\n",
        "tuple1 = eval(input(\"Enter the first tuple: \"))\n",
        "tuple2 = eval(input(\"Enter the second tuple: \"))\n",
        "result = tuple1+tuple2\n",
        "print(result)\n"
      ],
      "metadata": {
        "id": "P9crRdAiHmgb"
      },
      "execution_count": null,
      "outputs": []
    },
    {
      "cell_type": "code",
      "source": [
        "#24.\n",
        "s1 = set(input(\"Enter the first set of strings : \"))\n",
        "s2 = set(input(\"Enter the second set of strings : \"))\n",
        "result = s1 - s2\n",
        "print(result)"
      ],
      "metadata": {
        "id": "H5FJToG7JNyW"
      },
      "execution_count": null,
      "outputs": []
    },
    {
      "cell_type": "code",
      "source": [
        "#25.\n",
        "T = eval(input(\"Enter the Tuple: \"))\n",
        "Start = int(input(\"Enter the starting index : \"))\n",
        "End = int(input(\"Enter the ending index : \"))\n",
        "print(T[Start:End])"
      ],
      "metadata": {
        "id": "ka6MyqPKs7HQ"
      },
      "execution_count": null,
      "outputs": []
    },
    {
      "cell_type": "code",
      "source": [
        "#26.\n",
        "s1 = set(input(\"Enter characters separated by spaces: \").split())\n",
        "s2 = set(input(\"Enter characters separated by spaces: \").split())\n",
        "result = s1|s2\n",
        "print(result)"
      ],
      "metadata": {
        "id": "78kcCLYDXqro"
      },
      "execution_count": null,
      "outputs": []
    },
    {
      "cell_type": "code",
      "source": [
        "#27.\n",
        "t1 = tuple(map(int, input().split()))\n",
        "max_val = max(t1)\n",
        "min_val = min(t1)\n",
        "print(\"maximum value is : \", max_val)\n",
        "print(\"minimum value is : \", min_val)\n"
      ],
      "metadata": {
        "id": "FqdI_Bm9asIw"
      },
      "execution_count": null,
      "outputs": []
    },
    {
      "cell_type": "code",
      "source": [
        "#28.\n",
        "s1 =set(input(\"Enter the set 1 : \").split())\n",
        "s2 =set(input(\"Enter the set 2 : \").split())\n",
        "r1 = print(\"tThe union is\", s1|s2)\n",
        "r2 = print(\"tThe intersection is\", s1&s2)\n",
        "r3 = print(\"tThe difference is\", s1-s2)"
      ],
      "metadata": {
        "id": "jdlS_auhctMd"
      },
      "execution_count": null,
      "outputs": []
    },
    {
      "cell_type": "code",
      "source": [
        "#29.\n",
        "t1 = eval(input(\"Enter the tuple : \"))\n",
        "e1 = input(\"enter an element : \")\n",
        "if e1 in t1:\n",
        "  print(f\"The no of occurences of {e1} is : \", e1 )"
      ],
      "metadata": {
        "id": "e216ZrZ7fEwg"
      },
      "execution_count": null,
      "outputs": []
    },
    {
      "cell_type": "code",
      "source": [
        "#30.\n",
        "s1 = set(input(\"Enter the set 1 : \").split())\n",
        "s2 = set(input(\"Enter the set 2 : \").split())\n",
        "result = s1^s2\n",
        "print(result)"
      ],
      "metadata": {
        "id": "YzLQVO9EgFb0"
      },
      "execution_count": null,
      "outputs": []
    },
    {
      "cell_type": "code",
      "source": [
        "#31.\n",
        "l1 = list(input(\"Enter the list : \").split())\n",
        "frequency_dict = {}\n",
        "for word in l1:\n",
        "  if word in frequency_dict:\n",
        "    frequency_dict[word] +=1\n",
        "  else:\n",
        "      frequency_dict[word] = 1\n",
        "print(\"Frequencies : \", frequency_dict)"
      ],
      "metadata": {
        "id": "2MhXL6sMkbPU"
      },
      "execution_count": null,
      "outputs": []
    },
    {
      "cell_type": "code",
      "source": [
        "#32.\n",
        "d1 = eval(input(\"Enter the dictionary 1 :\"))\n",
        "d2 = eval(input(\"Enter the dictionary 2 :\"))\n",
        "d1.update(d2)\n",
        "print(d1)"
      ],
      "metadata": {
        "id": "uPhCuYC9OjA0"
      },
      "execution_count": null,
      "outputs": []
    },
    {
      "cell_type": "code",
      "source": [
        "#33.\n",
        "d1 = {'a': {'b' : {'c' : 10}}}\n",
        "l1 = input(\"Enter the list of the keys : \").split()\n",
        "result = {key: d1.get(key) for key in l1}\n",
        "if result == {}:\n",
        "  print(\"none\")\n",
        "else:\n",
        "  print(result)"
      ],
      "metadata": {
        "id": "S04F8TRGQqOO"
      },
      "execution_count": null,
      "outputs": []
    },
    {
      "cell_type": "code",
      "source": [
        "#34.\n",
        "d = eval(input(\"Enter the dictionary (e.g., {'a': 3, 'b': 1, 'c': 2}): \"))\n",
        "order = input(\"Enter 'asc' for ascending or 'desc' for descending: \")\n",
        "\n",
        "items = list(d.items())\n",
        "\n",
        "def get_value(item):\n",
        "    return item[1]\n",
        "\n",
        "if order == 'asc':\n",
        "    sorted_items = sorted(items, key=get_value)\n",
        "\n",
        "    sorted_dict = dict(sorted_items)\n",
        "    print(\"Sorted dictionary:\", sorted_dict)\n",
        "elif order == 'desc':\n",
        "    sorted_items = sorted(items, key=get_value, reverse=True)\n",
        "    sorted_dict = dict(sorted_items)\n",
        "    print(\"Sorted dictionary:\", sorted_dict)\n",
        "else :\n",
        "     print(\"Invalid order\")"
      ],
      "metadata": {
        "colab": {
          "base_uri": "https://localhost:8080/"
        },
        "id": "-49leLMuUljV",
        "outputId": "5a625c4e-3c86-4451-9a0c-254748496363"
      },
      "execution_count": 17,
      "outputs": [
        {
          "output_type": "stream",
          "name": "stdout",
          "text": [
            "Enter the dictionary (e.g., {'a': 3, 'b': 1, 'c': 2}): {'a': 3, 'b': 1, 'c': 2}\n",
            "Enter 'asc' for ascending or 'desc' for descending: desc\n",
            "Sorted dictionary: {'a': 3, 'c': 2, 'b': 1}\n"
          ]
        }
      ]
    },
    {
      "cell_type": "code",
      "source": [
        "#35.\n",
        "d = eval(input(\"Enter the dictionary (e.g., {'a': 1, 'b': 2, 'c': 1}): \"))\n",
        "\n",
        "inverted_dict = {}\n",
        "for key, value in d.items():\n",
        "    if value in inverted_dict:\n",
        "        inverted_dict[value].append(key)\n",
        "    else:\n",
        "        inverted_dict[value] = [key]\n",
        "\n",
        "print(\"Inverted dictionary:\",inverted_dict)"
      ],
      "metadata": {
        "colab": {
          "base_uri": "https://localhost:8080/"
        },
        "id": "P-V5u1c7V6RC",
        "outputId": "a97d663b-94c3-4335-df0f-45d4dcbbc170"
      },
      "execution_count": 19,
      "outputs": [
        {
          "output_type": "stream",
          "name": "stdout",
          "text": [
            "Enter the dictionary (e.g., {'a': 1, 'b': 2, 'c': 1}): {'a': 1, 'b': 2, 'c': 1}\n",
            "Inverted dictionary: {1: ['a', 'c'], 2: ['b']}\n"
          ]
        }
      ]
    }
  ]
}