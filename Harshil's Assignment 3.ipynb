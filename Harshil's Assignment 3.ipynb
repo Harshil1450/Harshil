{
  "nbformat": 4,
  "nbformat_minor": 0,
  "metadata": {
    "colab": {
      "provenance": [],
      "authorship_tag": "ABX9TyNpkOiJa0bpeO8LYNUulDKs",
      "include_colab_link": true
    },
    "kernelspec": {
      "name": "python3",
      "display_name": "Python 3"
    },
    "language_info": {
      "name": "python"
    }
  },
  "cells": [
    {
      "cell_type": "markdown",
      "metadata": {
        "id": "view-in-github",
        "colab_type": "text"
      },
      "source": [
        "<a href=\"https://colab.research.google.com/github/Harshil1450/Harshil/blob/main/Harshil's%20Assignment%203.ipynb\" target=\"_parent\"><img src=\"https://colab.research.google.com/assets/colab-badge.svg\" alt=\"Open In Colab\"/></a>"
      ]
    },
    {
      "cell_type": "markdown",
      "source": [
        "Q-1>  Discuss string slicing and provide examples.\n",
        "\n",
        "String slicing in Python allows you to extract a substring from a string using a specified range of indices. The syntax for slicing is string[start:stop:step]:\n",
        "\n",
        "start is the index where the slice begins.\n",
        "\n",
        "stop is the index where the slice ends (but does not include).\n",
        "\n",
        "step determines the interval between indices (default is 1).\n",
        "Examples:\n",
        "\n",
        "\n",
        "\n"
      ],
      "metadata": {
        "id": "KXhNa1NHXH7J"
      }
    },
    {
      "cell_type": "code",
      "source": [
        "\n",
        "\n",
        "s = \"Hello, World!\"\n",
        "s[::-1]\n"
      ],
      "metadata": {
        "colab": {
          "base_uri": "https://localhost:8080/",
          "height": 35
        },
        "id": "HmI0_ET1Yh6G",
        "outputId": "cce89803-cdcd-45d6-8c83-f0faccf77477"
      },
      "execution_count": null,
      "outputs": [
        {
          "output_type": "execute_result",
          "data": {
            "text/plain": [
              "'!dlroW ,olleH'"
            ],
            "application/vnd.google.colaboratory.intrinsic+json": {
              "type": "string"
            }
          },
          "metadata": {},
          "execution_count": 4
        }
      ]
    },
    {
      "cell_type": "code",
      "source": [
        "S = \"Harshil\"\n",
        "S[0:4:2]"
      ],
      "metadata": {
        "colab": {
          "base_uri": "https://localhost:8080/",
          "height": 35
        },
        "id": "gKVtEA9yY0ws",
        "outputId": "06b9c652-0801-4095-f70a-f6cb5b6baebf"
      },
      "execution_count": null,
      "outputs": [
        {
          "output_type": "execute_result",
          "data": {
            "text/plain": [
              "'Hr'"
            ],
            "application/vnd.google.colaboratory.intrinsic+json": {
              "type": "string"
            }
          },
          "metadata": {},
          "execution_count": 5
        }
      ]
    },
    {
      "cell_type": "markdown",
      "source": [
        "Q-2> Explain the key features of lists in python.\n",
        "\n",
        "\n",
        "\n",
        "In Python, lists are versatile and mutable collections with these key features:\n",
        "\n",
        "1.Ordered: Lists maintain the order of elements.\n",
        "\n",
        "2.Mutable: You can modify elements, add, or remove items.\n",
        "\n",
        "3.Indexed: Elements are accessed via zero-based indices.\n",
        "\n",
        "4.Dynamic: Lists can grow or shrink in size.\n",
        "\n",
        "5.Heterogeneous: They can store elements of different data types.\n",
        "\n",
        "6.Iterable: You can loop through elements using iteration constructs."
      ],
      "metadata": {
        "id": "Ej6YNjRwZpqZ"
      }
    },
    {
      "cell_type": "markdown",
      "source": [
        "Q-3> Describe how to access, modify, and delete elements in a list with examples.\n",
        "\n",
        "1.Accessing Elements:\n",
        "\n",
        "Use indices to access elements.\n",
        "\n",
        "2.Modifying Elements:\n",
        "\n",
        "Assign a new value to a specific index.\n",
        "\n",
        "3.Deleting Elements:\n",
        "\n",
        "Use del statement or pop() method to remove elements.\n",
        "\n",
        "Examples:"
      ],
      "metadata": {
        "id": "Swhnkitnb-fv"
      }
    },
    {
      "cell_type": "code",
      "source": [
        "#1.Accessing Elements:\n",
        "my_list = [10, 20, 30, 40]\n",
        "print(my_list[2])\n"
      ],
      "metadata": {
        "colab": {
          "base_uri": "https://localhost:8080/"
        },
        "id": "jn-9K5LndG0R",
        "outputId": "8d5c484f-8c9a-40b5-9058-a4cdbb73e4cd"
      },
      "execution_count": null,
      "outputs": [
        {
          "output_type": "stream",
          "name": "stdout",
          "text": [
            "30\n"
          ]
        }
      ]
    },
    {
      "cell_type": "code",
      "source": [
        "#2. Modifying Elements:\n",
        "my_list[1] = 99\n",
        "print(my_list)"
      ],
      "metadata": {
        "colab": {
          "base_uri": "https://localhost:8080/"
        },
        "id": "rQk8jk7SeX5q",
        "outputId": "ca68b599-d46f-4845-a659-0d9db52f7e75"
      },
      "execution_count": null,
      "outputs": [
        {
          "output_type": "stream",
          "name": "stdout",
          "text": [
            "[10, 99, 30, 40]\n"
          ]
        }
      ]
    },
    {
      "cell_type": "code",
      "source": [
        "#3. Deleting elements:\n",
        "del my_list[0]\n",
        "print(my_list)"
      ],
      "metadata": {
        "colab": {
          "base_uri": "https://localhost:8080/"
        },
        "id": "ALDMfayieocY",
        "outputId": "717974e8-a3ef-4763-a7d1-39a7c60b2085"
      },
      "execution_count": null,
      "outputs": [
        {
          "output_type": "stream",
          "name": "stdout",
          "text": [
            "[99, 30, 40]\n"
          ]
        }
      ]
    },
    {
      "cell_type": "markdown",
      "source": [
        "Q-4> Compare and contrast tuples and lists with examples.\n",
        "\n",
        "1.Mutability:\n",
        "\n",
        "Lists: Mutable (can be modified after creation).\n",
        "\n",
        "Tuples: Immutable (cannot be modified after creation).\n",
        "\n",
        "\n",
        "\n",
        "2.Syntax:\n",
        "\n",
        "Lists: Defined with square brackets [].\n",
        "\n",
        "Tuples: Defined with parentheses ().\n",
        "\n",
        "3.Performance:\n",
        "\n",
        "Lists: Generally have more overhead due to mutability.\n",
        "\n",
        "Tuples: Typically more memory-efficient and faster for iteration because of immutability.\n",
        "\n",
        "4.Use Cases:\n",
        "\n",
        "Lists: Suitable for collections of items that may change.\n",
        "\n",
        "Tuples: Ideal for fixed collections of items, such as records or function return values.\n",
        "\n",
        "\n",
        "\n",
        "5.Methods:\n",
        "\n",
        "Lists: Support various methods like append(), remove(), extend(), etc.\n",
        "\n",
        "Tuples: Limited to methods like count() and index()\n",
        "\n"
      ],
      "metadata": {
        "id": "fvSMPakqfAop"
      }
    },
    {
      "cell_type": "markdown",
      "source": [
        "Q-5> Describe the key features of sets and provide examples of their use.\n",
        "\n",
        "Key Features of Sets:\n",
        "\n",
        "1.Uniqueness:\n",
        "\n",
        "Definition: In a set, each element is unique; duplicates are not allowed.\n",
        "\n",
        "2.Unordered:\n",
        "\n",
        "Definition: Sets do not have a specific order for their elements.\n",
        "\n",
        "3.Defined by Membership:\n",
        "\n",
        "\n",
        "Definition: Elements are either members of a set or not; membership is binary.\n",
        "\n",
        "4.Finite or Infinite:\n",
        "\n",
        "\n",
        "Definition: Sets can be finite (with a specific number of elements) or infinite.\n",
        "\n",
        "5.Operations:\n",
        "\n",
        "i)Union: Combines elements of two sets.\n",
        "\n",
        "ii)Intersection: Finds common elements between sets.\n",
        "\n",
        "iii)Difference: Elements in one set but not in the other.\n",
        "\n",
        "iv)Complement: Elements not in the set, usually relative to a universal set.\n",
        "\n",
        "6.Subset and Superset:\n",
        "\n",
        "Definition: A set  A is a subset of B if all elements of A are also in B.Conversely, B is a superset of A.\n",
        "\n",
        "Examples of Sets in Use:\n",
        "\n",
        "1.Database Querying:\n",
        "\n",
        "Sets are used to perform operations like finding records that exist in one table but not another. For example, to find customers who bought a product but not another, you use set difference operations.\n",
        "\n",
        "2.Programming:\n",
        "\n",
        "Many programming languages have built-in set data structures. For instance, Python has a set type that supports union, intersection, and other set operations.\n",
        "\n",
        "3.Stastics:\n",
        "\n",
        "Sets are used to categorize and analyze data. For example, finding the common characteristics of different groups of data points involves intersection operations.\n",
        "\n",
        "4.Logic and Proof:\n",
        "\n",
        "In logic, sets are used to prove statements and solve problems involving logic. For instance, proving a mathematical theorem often involves showing that certain sets are subsets of others.\n",
        "\n",
        "5.Web Development:\n",
        "\n",
        "In web development, sets are useful for handling unique user IDs or tags. For example, ensuring that a list of user IDs remains unique can be efficiently managed using set operations.\n",
        "\n",
        "6.Networking:\n",
        "\n",
        "Sets are used to manage connections and routes. For instance, managing unique IP addresses or routes in networking involves set operations to ensure uniqueness and optimize performance.\n",
        "\n"
      ],
      "metadata": {
        "id": "SvVAHXp5hjwk"
      }
    },
    {
      "cell_type": "markdown",
      "source": [
        "Q-6>  Discuss the use cases of tuples and sets in Python programming.\n",
        "\n",
        "In Python programming, both tuples and sets serve distinct purposes and are used in various scenarios. Here’s a detailed look at their use cases:\n",
        "\n",
        "Tuples\n",
        "\n",
        "A tuple is an immutable sequence type in Python, meaning once a tuple is created, its contents cannot be changed. Tuples are typically used in the following scenarios:\n",
        "\n",
        "Immutable Data Storage:\n",
        "\n",
        "Use Case: When you need to store a collection of items that should not be modified.\n",
        "\n",
        "Function Returns:\n",
        "\n",
        "Use Case: When a function needs to return multiple values.\n",
        "\n",
        "Data Integrity:\n",
        "\n",
        "Use Case: Ensuring data consistency by using immutable structures.\n",
        "\n",
        "Unpacking:\n",
        "\n",
        "Use Case: When you want to unpack multiple values at once.\n",
        "\n",
        "Dictionary Keys:\n",
        "\n",
        "Use Case: Using tuples as keys in dictionaries (since they are immutable).\n",
        "\n",
        "Sets\n",
        "\n",
        "A set is an unordered collection of unique items. Sets are highly useful for operations that involve membership tests, uniqueness, and set operations. Here are some common use cases:\n",
        "\n",
        "Removing Duplicates:\n",
        "\n",
        "Use Case: When you need to eliminate duplicate items from a collection.\n",
        "\n",
        "Membership Testing:\n",
        "\n",
        "Use Case: Quickly checking if an item is in a collection.\n",
        "\n",
        "Set Operations:\n",
        "\n",
        "Use Case: Performing mathematical set operations like union, intersection, and difference.\n",
        "\n",
        "Efficient Lookup:\n",
        "\n",
        "Use Case: For operations where fast membership tests are needed, as sets have average time complexity of O(1) for lookups.\n",
        "\n",
        "Set-Based Algorithms:\n",
        "\n",
        "Use Case: When implementing algorithms that benefit from set theory, such as finding unique elements or solving combinatorial problems.\n",
        "\n",
        "Data Deduplication:\n",
        "\n",
        "Use Case: Removing duplicate entries from data sources.\n",
        "Example: Cleaning up user input or database queries."
      ],
      "metadata": {
        "id": "Ol6M7H6kkZ7m"
      }
    },
    {
      "cell_type": "markdown",
      "source": [
        "Q-7>  Describe how to add, modify, and delete items in a dictionary with examples.\n",
        "\n",
        "1. Adding Items\n",
        "\n",
        "You can add items to a dictionary by assigning a value to a new key. If the key does not already exist in the dictionary, it will be added.\n",
        "\n",
        "2. Modifying Items\n",
        "To modify an existing item, you assign a new value to an existing key. If the key already exists, its value will be updated.\n",
        "\n",
        "3. Deleting Items\n",
        "You can delete items from a dictionary using the del statement or the pop() method.\n",
        "\n",
        "i)Using del:\n",
        "\n",
        "The del statement removes a key-value pair from the dictionary. If the key does not exist, it will raise a KeyError.\n",
        "\n",
        "ii)Using pop():\n",
        "\n",
        "The pop() method removes a specified key and returns its value. If the key does not exist and you don't provide a default value, it will raise a KeyError. You can also provide a default value to avoid errors if the key is not found.\n"
      ],
      "metadata": {
        "id": "JR4F-RTLlTC0"
      }
    },
    {
      "cell_type": "code",
      "source": [
        "#Examples.\n",
        "#1.Adding Items\n",
        "person = {\"name\": \"Alice\", \"age\": 30}\n",
        "person[\"occupation\"] = \"Engineer\"\n",
        "print(person)\n"
      ],
      "metadata": {
        "colab": {
          "base_uri": "https://localhost:8080/"
        },
        "id": "ZsbUr0MPmAqU",
        "outputId": "080bb855-a068-4046-cced-313c3f5fdf8a"
      },
      "execution_count": null,
      "outputs": [
        {
          "output_type": "stream",
          "name": "stdout",
          "text": [
            "{'name': 'Alice', 'age': 30, 'occupation': 'Engineer'}\n"
          ]
        }
      ]
    },
    {
      "cell_type": "code",
      "source": [
        "#2.Modifying Items.\n",
        "person = {\"name\": \"Alice\", \"age\": 30, \"occupation\": \"Engineer\"}\n",
        "person[\"age\"] = 31\n",
        "person[\"occupation\"] = \"Senior Engineer\"\n",
        "print(person)\n"
      ],
      "metadata": {
        "colab": {
          "base_uri": "https://localhost:8080/"
        },
        "id": "gCTvkEeImFZ_",
        "outputId": "016b9438-1330-41ee-fbde-3e5148ef55c8"
      },
      "execution_count": null,
      "outputs": [
        {
          "output_type": "stream",
          "name": "stdout",
          "text": [
            "{'name': 'Alice', 'age': 31, 'occupation': 'Senior Engineer'}\n"
          ]
        }
      ]
    },
    {
      "cell_type": "code",
      "source": [
        "#3.Deleting items.\n",
        "person = {\"name\": \"Alice\", \"age\": 30, \"occupation\": \"Engineer\"}\n",
        "del person[\"age\"]\n",
        "print(person)"
      ],
      "metadata": {
        "colab": {
          "base_uri": "https://localhost:8080/"
        },
        "id": "hLvTFNjmmf4D",
        "outputId": "d42b556b-2be6-4a5a-f83c-dc80a1dea2d0"
      },
      "execution_count": null,
      "outputs": [
        {
          "output_type": "stream",
          "name": "stdout",
          "text": [
            "{'name': 'Alice', 'occupation': 'Engineer'}\n"
          ]
        }
      ]
    },
    {
      "cell_type": "markdown",
      "source": [
        "Q-8> Discuss the importance of dictionary keys being immutable and provide examples.\n",
        "\n",
        "Importance of Immutable Dictionary Keys\n",
        "\n",
        "1.Consistency and Integrity:\n",
        "\n",
        "Reason: Dictionary keys are used to quickly locate values through hashing. If a key could be changed, it would alter the hash value, potentially causing inconsistencies and making it impossible to find the associated value.\n",
        "Example: Imagine a dictionary where the keys are mutable. If you use a list as a key and then modify the list, the dictionary would no longer be able to find the value associated with that key.\n",
        "\n",
        "2.Hashing:\n",
        "\n",
        "Reason: Dictionaries in Python use hashing to ensure fast access to values. The hash function depends on the key being constant. If the key were mutable and changed, the hash value could change, which would disrupt the dictionary’s ability to retrieve the value.\n",
        "Example: If you used a mutable type like a list as a key, the hash value could change if the list were modified. This would break the dictionary’s internal structure and lead to errors or inconsistencies.\n",
        "\n",
        "3.Performance:\n",
        "\n",
        "Reason: Immutable keys guarantee that the hash value remains constant, leading to efficient and predictable performance. This immutability allows dictionaries to quickly look up values without having to rehash keys.\n",
        "Example: With immutable keys, dictionaries can maintain constant-time complexity for lookups, insertions, and deletions. Mutable keys would prevent this efficiency and could degrade performance."
      ],
      "metadata": {
        "id": "H0ACUheimuv3"
      }
    },
    {
      "cell_type": "code",
      "source": [
        "#Examples of Immutable vs. Mutable Keys\n",
        "#Example with Strings:\n",
        "\n",
        "person = {\"name\": \"Alice\", \"age\": 30}\n",
        "print(person[\"name\"])\n",
        "\n"
      ],
      "metadata": {
        "id": "lPaRK0RInPl2",
        "colab": {
          "base_uri": "https://localhost:8080/"
        },
        "outputId": "ecaa84af-5c9e-4909-df25-ceadef2ca853"
      },
      "execution_count": 1,
      "outputs": [
        {
          "output_type": "stream",
          "name": "stdout",
          "text": [
            "Alice\n"
          ]
        }
      ]
    },
    {
      "cell_type": "code",
      "source": [
        "#Example with Tuples:\n",
        "\n",
        "coordinates = {(40.7128, -74.0060): \"New York\", (34.0522, -118.2437): \"Los Angeles\"}\n",
        "print(coordinates[(40.7128, -74.0060)])\n"
      ],
      "metadata": {
        "colab": {
          "base_uri": "https://localhost:8080/"
        },
        "id": "zaRgzPRfnWVQ",
        "outputId": "4b429dce-3330-4bc8-f2f4-f70159332392"
      },
      "execution_count": null,
      "outputs": [
        {
          "output_type": "stream",
          "name": "stdout",
          "text": [
            "New York\n"
          ]
        }
      ]
    },
    {
      "cell_type": "code",
      "source": [],
      "metadata": {
        "id": "eox6hZNgnrVR"
      },
      "execution_count": null,
      "outputs": []
    }
  ]
}