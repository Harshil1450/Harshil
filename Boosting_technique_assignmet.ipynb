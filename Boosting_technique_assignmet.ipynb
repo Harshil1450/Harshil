{
  "nbformat": 4,
  "nbformat_minor": 0,
  "metadata": {
    "colab": {
      "provenance": [],
      "authorship_tag": "ABX9TyMu4VYhjGHgjz9WTCOZuFmG",
      "include_colab_link": true
    },
    "kernelspec": {
      "name": "python3",
      "display_name": "Python 3"
    },
    "language_info": {
      "name": "python"
    }
  },
  "cells": [
    {
      "cell_type": "markdown",
      "metadata": {
        "id": "view-in-github",
        "colab_type": "text"
      },
      "source": [
        "<a href=\"https://colab.research.google.com/github/Harshil1450/Harshil/blob/main/Boosting_technique_assignmet.ipynb\" target=\"_parent\"><img src=\"https://colab.research.google.com/assets/colab-badge.svg\" alt=\"Open In Colab\"/></a>"
      ]
    },
    {
      "cell_type": "markdown",
      "source": [
        "**Theoretical Part**"
      ],
      "metadata": {
        "id": "nE4gnjkKbbll"
      }
    },
    {
      "cell_type": "markdown",
      "source": [
        "\n",
        "### 1. **What is Boosting in Machine Learning?**  \n",
        "   Boosting is an ensemble learning technique that combines multiple weak learners (typically decision trees) sequentially to create a strong predictive model. Each new model corrects the errors of the previous ones by giving higher weights to misclassified instances.\n",
        "\n",
        "### 2. **How does Boosting differ from Bagging?**  \n",
        "   - **Boosting** focuses on sequentially improving weak learners, where each new model corrects the mistakes of the previous ones.  \n",
        "   - **Bagging** (Bootstrap Aggregating) trains multiple models independently on bootstrapped datasets and then averages (or votes) their outputs to reduce variance.  \n",
        "\n",
        "### 3. **What is the key idea behind AdaBoost?**  \n",
        "   Adaptive Boosting (AdaBoost) assigns weights to training samples and emphasizes misclassified ones in subsequent iterations. It combines weak classifiers into a strong classifier by adjusting sample importance dynamically.\n",
        "\n",
        "### 4. **Explain the working of AdaBoost with an example.**  \n",
        "   - Start with equal weights for all training samples.  \n",
        "   - Train a weak learner (e.g., a decision stump).  \n",
        "   - Compute the error and assign higher weights to misclassified samples.  \n",
        "   - Train the next weak learner with updated weights.  \n",
        "   - Repeat for multiple iterations and combine weak learners using weighted voting.  \n",
        "   **Example:** If an image classification task misclassifies cats, AdaBoost will increase their weights, making the next model focus more on correctly classifying cats.\n",
        "\n",
        "### 5. **What is Gradient Boosting, and how is it different from AdaBoost?**  \n",
        "   - Gradient Boosting builds models sequentially like AdaBoost but optimizes for a differentiable loss function using gradient descent.  \n",
        "   - AdaBoost adjusts weights based on classification errors, whereas Gradient Boosting minimizes the residual errors in a regression-like approach.\n",
        "\n",
        "### 6. **What is the loss function in Gradient Boosting?**  \n",
        "   It depends on the task:  \n",
        "   - **Regression:** Mean Squared Error (MSE)  \n",
        "   - **Classification:** Log Loss or Cross-Entropy Loss  \n",
        "\n",
        "### 7. **How does XGBoost improve over traditional Gradient Boosting?**  \n",
        "   XGBoost (Extreme Gradient Boosting) improves by:  \n",
        "   - Regularization (L1 & L2) to prevent overfitting  \n",
        "   - Parallel processing for faster training  \n",
        "   - Handling missing values efficiently  \n",
        "   - Shrinkage (learning rate) to improve convergence  \n",
        "   - Feature importance ranking  \n",
        "\n",
        "### 8. **What is the difference between XGBoost and CatBoost?**  \n",
        "   - **XGBoost** is efficient and widely used but requires manual preprocessing of categorical features.  \n",
        "   - **CatBoost** is optimized for categorical data and automatically handles categorical features without one-hot encoding.  \n",
        "\n",
        "### 9. **What are some real-world applications of Boosting techniques?**  \n",
        "   - Fraud detection (banking)  \n",
        "   - Medical diagnosis  \n",
        "   - Customer churn prediction  \n",
        "   - Recommendation systems  \n",
        "   - Search ranking (Google, Bing)  \n",
        "\n",
        "### 10. **How does regularization help in XGBoost?**  \n",
        "   Regularization (L1 and L2) reduces model complexity and prevents overfitting by penalizing large coefficients in the decision trees.\n",
        "\n",
        "### 11. **What are some hyperparameters to tune in Gradient Boosting models?**  \n",
        "   - Learning rate  \n",
        "   - Number of trees (n_estimators)  \n",
        "   - Maximum tree depth  \n",
        "   - Minimum child weight  \n",
        "   - Subsample ratio  \n",
        "   - Regularization parameters (L1, L2)  \n",
        "\n",
        "### 12. **What is the concept of Feature Importance in Boosting?**  \n",
        "   Feature Importance helps understand which features contribute most to predictions. Boosting models calculate importance based on how often a feature is used for splits and its impact on reducing loss.\n",
        "\n",
        "### 13. **Why is CatBoost efficient for categorical data?**  \n",
        "   - Uses **ordered boosting** to reduce target leakage  \n",
        "   - Handles categorical variables without preprocessing  \n",
        "   - Reduces memory usage and speeds up training  \n",
        "\n"
      ],
      "metadata": {
        "id": "AERTY4M7bjKt"
      }
    },
    {
      "cell_type": "markdown",
      "source": [
        "**Practical part**"
      ],
      "metadata": {
        "id": "4vlGcBGDbjrq"
      }
    },
    {
      "cell_type": "code",
      "execution_count": null,
      "metadata": {
        "colab": {
          "base_uri": "https://localhost:8080/"
        },
        "id": "kyj11MEKl4o-",
        "outputId": "e18007e7-a9ac-4d7e-c62b-36176ecd309f"
      },
      "outputs": [
        {
          "output_type": "stream",
          "name": "stdout",
          "text": [
            "Accuracy: 97.36842105263158\n"
          ]
        }
      ],
      "source": [
        "#Q-14>>\n",
        "import pandas as pd\n",
        "import numpy as np\n",
        "import matplotlib.pyplot as plt\n",
        "import seaborn as sns\n",
        "import warnings\n",
        "warnings.filterwarnings(\"ignore\")\n",
        "from sklearn.model_selection import train_test_split\n",
        "from sklearn.ensemble import AdaBoostClassifier\n",
        "from sklearn.datasets import load_breast_cancer\n",
        "data = load_breast_cancer()\n",
        "X=data.data\n",
        "y= data.target\n",
        "X_train, X_test, y_train, y_test = train_test_split(X, y, test_size=0.2, random_state=42)\n",
        "model = AdaBoostClassifier(n_estimators=100, random_state=42)\n",
        "model.fit(X_train, y_train)\n",
        "y_pred = model.predict(X_test)\n",
        "accuracy = model.score(X_test, y_test)\n",
        "print(\"Accuracy:\", accuracy*100)"
      ]
    },
    {
      "cell_type": "code",
      "source": [
        "#Q-15>>\n",
        "#using above same datsset\n",
        "from sklearn.ensemble import AdaBoostRegressor\n",
        "from sklearn.metrics import mean_absolute_error\n",
        "adr =  AdaBoostRegressor(n_estimators=100, random_state=42)\n",
        "adr.fit(X_train, y_train)\n",
        "y_pred = adr.predict(X_test)\n",
        "mae = mean_absolute_error(y_test, y_pred)\n",
        "print(\"Mean Absolute Error:\", mae)"
      ],
      "metadata": {
        "colab": {
          "base_uri": "https://localhost:8080/"
        },
        "id": "B12LqqFhm-0f",
        "outputId": "5c456dd8-48ef-4c17-f6f2-ae51ca36c463"
      },
      "execution_count": null,
      "outputs": [
        {
          "output_type": "stream",
          "name": "stdout",
          "text": [
            "Mean Absolute Error: 0.09264116742220589\n"
          ]
        }
      ]
    },
    {
      "cell_type": "code",
      "source": [
        "#Q-16>>\n",
        "#As we have used breast cancer dataset above so using the same dataset\n",
        "from sklearn.ensemble import GradientBoostingClassifier\n",
        "from sklearn.metrics import accuracy_score\n",
        "gbc = GradientBoostingClassifier(n_estimators=100, random_state=42)\n",
        "gbc.fit(X_train, y_train)\n",
        "y_pred = gbc.predict(X_test)\n",
        "accuracy = accuracy_score(y_test,y_pred)\n",
        "feature_importance = gbc.feature_importances_\n",
        "print(\"Accuracy:\", accuracy)\n",
        "print(\"Feature Importance:\", feature_importance)"
      ],
      "metadata": {
        "colab": {
          "base_uri": "https://localhost:8080/"
        },
        "id": "XMFrO_-3sEe9",
        "outputId": "20b2a302-0398-4c78-a6b3-f2ce6a1d9e1c"
      },
      "execution_count": null,
      "outputs": [
        {
          "output_type": "stream",
          "name": "stdout",
          "text": [
            "Accuracy: 0.865\n",
            "Feature Importance: [0.04868048 0.0037274  0.01360612 0.06181576 0.01003332 0.00572917\n",
            " 0.01820446 0.00897762 0.00769659 0.01991465 0.00369791 0.01818897\n",
            " 0.70191206 0.00358013 0.0242999  0.01347535 0.00302717 0.00967117\n",
            " 0.0162137  0.00754808]\n"
          ]
        }
      ]
    },
    {
      "cell_type": "code",
      "source": [
        "#Q-17>>\n",
        "#As we have used breast cancer dataset above so using the same dataset\n",
        "#\n",
        "from sklearn.ensemble import GradientBoostingRegressor\n",
        "from sklearn.metrics import r2_score\n",
        "gbr = GradientBoostingRegressor(n_estimators=100, random_state=42)\n",
        "gbr.fit(X_train, y_train)\n",
        "y_pred = gbr.predict(X_test)\n",
        "r2 = r2_score(y_test, y_pred)\n",
        "print(\"R-Squared Score:\", r2)"
      ],
      "metadata": {
        "colab": {
          "base_uri": "https://localhost:8080/"
        },
        "id": "vSIJtj74shbV",
        "outputId": "a68283d3-6ca0-4c4d-a90a-b30bca9e03b6"
      },
      "execution_count": null,
      "outputs": [
        {
          "output_type": "stream",
          "name": "stdout",
          "text": [
            "R-Squared Score: 0.5964152066650592\n"
          ]
        }
      ]
    },
    {
      "cell_type": "code",
      "source": [
        "#Q-18>>\n",
        "#Using above same dataset\n",
        "from xgboost import XGBClassifier\n",
        "xgbc = XGBClassifier(n_estimators=100, random_state=42)\n",
        "xgbc.fit(X_train, y_train)\n",
        "y_pred = xgbc.predict(X_test)\n",
        "accuracy = accuracy_score(y_test,y_pred)\n",
        "print(\"Accuracy XGBClassifier:\", accuracy)\n",
        "gbc = GradientBoostingClassifier(n_estimators=100, random_state=42)\n",
        "gbc.fit(X_train, y_train)\n",
        "y_pred = gbc.predict(X_test)\n",
        "accuracy = accuracy_score(y_test,y_pred)\n",
        "print(\"Accuracy GradientBoostingClassifier:\", accuracy)"
      ],
      "metadata": {
        "colab": {
          "base_uri": "https://localhost:8080/"
        },
        "id": "qGS9qjG9tT_B",
        "outputId": "4a5bb767-e788-4835-f1e1-ab858f2911d0"
      },
      "execution_count": null,
      "outputs": [
        {
          "output_type": "stream",
          "name": "stdout",
          "text": [
            "Accuracy XGBClassifier: 0.845\n",
            "Accuracy GradientBoostingClassifier: 0.865\n"
          ]
        }
      ]
    },
    {
      "cell_type": "code",
      "source": [
        "#Q-19>>\n",
        "#Using above same dataset\n",
        "!pip install catboost\n",
        "from catboost import CatBoostClassifier\n",
        "from sklearn.metrics import f1_score\n",
        "cbc = CatBoostClassifier(n_estimators=100, random_state=42, verbose=0)\n",
        "cbc.fit(X_train, y_train)\n",
        "f1=accuracy_score(y_test,y_pred)\n",
        "print(\"F1 Score:\", f1)"
      ],
      "metadata": {
        "colab": {
          "base_uri": "https://localhost:8080/"
        },
        "id": "BGWriamdt_3H",
        "outputId": "e43b8c31-8525-4556-9399-8df5e9a04463"
      },
      "execution_count": null,
      "outputs": [
        {
          "output_type": "stream",
          "name": "stdout",
          "text": [
            "Requirement already satisfied: catboost in /usr/local/lib/python3.11/dist-packages (1.2.7)\n",
            "Requirement already satisfied: graphviz in /usr/local/lib/python3.11/dist-packages (from catboost) (0.20.3)\n",
            "Requirement already satisfied: matplotlib in /usr/local/lib/python3.11/dist-packages (from catboost) (3.10.0)\n",
            "Requirement already satisfied: numpy<2.0,>=1.16.0 in /usr/local/lib/python3.11/dist-packages (from catboost) (1.26.4)\n",
            "Requirement already satisfied: pandas>=0.24 in /usr/local/lib/python3.11/dist-packages (from catboost) (2.2.2)\n",
            "Requirement already satisfied: scipy in /usr/local/lib/python3.11/dist-packages (from catboost) (1.13.1)\n",
            "Requirement already satisfied: plotly in /usr/local/lib/python3.11/dist-packages (from catboost) (5.24.1)\n",
            "Requirement already satisfied: six in /usr/local/lib/python3.11/dist-packages (from catboost) (1.17.0)\n",
            "Requirement already satisfied: python-dateutil>=2.8.2 in /usr/local/lib/python3.11/dist-packages (from pandas>=0.24->catboost) (2.8.2)\n",
            "Requirement already satisfied: pytz>=2020.1 in /usr/local/lib/python3.11/dist-packages (from pandas>=0.24->catboost) (2025.1)\n",
            "Requirement already satisfied: tzdata>=2022.7 in /usr/local/lib/python3.11/dist-packages (from pandas>=0.24->catboost) (2025.1)\n",
            "Requirement already satisfied: contourpy>=1.0.1 in /usr/local/lib/python3.11/dist-packages (from matplotlib->catboost) (1.3.1)\n",
            "Requirement already satisfied: cycler>=0.10 in /usr/local/lib/python3.11/dist-packages (from matplotlib->catboost) (0.12.1)\n",
            "Requirement already satisfied: fonttools>=4.22.0 in /usr/local/lib/python3.11/dist-packages (from matplotlib->catboost) (4.56.0)\n",
            "Requirement already satisfied: kiwisolver>=1.3.1 in /usr/local/lib/python3.11/dist-packages (from matplotlib->catboost) (1.4.8)\n",
            "Requirement already satisfied: packaging>=20.0 in /usr/local/lib/python3.11/dist-packages (from matplotlib->catboost) (24.2)\n",
            "Requirement already satisfied: pillow>=8 in /usr/local/lib/python3.11/dist-packages (from matplotlib->catboost) (11.1.0)\n",
            "Requirement already satisfied: pyparsing>=2.3.1 in /usr/local/lib/python3.11/dist-packages (from matplotlib->catboost) (3.2.1)\n",
            "Requirement already satisfied: tenacity>=6.2.0 in /usr/local/lib/python3.11/dist-packages (from plotly->catboost) (9.0.0)\n",
            "F1 Score: 0.865\n"
          ]
        }
      ]
    },
    {
      "cell_type": "code",
      "source": [
        "#Q-20>>\n",
        "# Train an XGBoost Regressor and evaluate using Mean Squared Error (MSE)4\n",
        "from xgboost import XGBRegressor\n",
        "from sklearn.metrics import mean_squared_error\n",
        "xgbr = XGBRegressor(n_estimators=100, random_state=42)\n",
        "xgbr.fit(X_train, y_train)\n",
        "y_pred = xgbr.predict(X_test)\n",
        "mse = mean_squared_error(y_test,y_pred)\n",
        "print(\"Mean Squared Error:\", mse)"
      ],
      "metadata": {
        "colab": {
          "base_uri": "https://localhost:8080/"
        },
        "id": "on7Ko2D-vyB3",
        "outputId": "99050f37-3bbc-43ff-e9d3-29aa7c1b1d4d"
      },
      "execution_count": null,
      "outputs": [
        {
          "output_type": "stream",
          "name": "stdout",
          "text": [
            "Mean Squared Error: 0.11425188183784485\n"
          ]
        }
      ]
    },
    {
      "cell_type": "code",
      "source": [
        "#Q-21>>\n",
        "data = load_breast_cancer()\n",
        "X = data.data\n",
        "y = data.target\n",
        "X_train, X_test, y_train, y_test = train_test_split(X, y, test_size=0.2, random_state=42)\n",
        "abc = AdaBoostClassifier(n_estimators=50, learning_rate=1, random_state=0)\n",
        "abc.fit(X_train, y_train)\n",
        "y_pred = abc.predict(X_test)\n",
        "feature_importance = abc.feature_importances_\n",
        "print(\"Feature Importance:\", feature_importance)\n",
        "plt.figure(figsize=(10, 6))\n",
        "sns.barplot(x=feature_importance, y=data.feature_names)\n",
        "plt.xlabel('Feature Importance')\n",
        "plt.ylabel('Features')\n",
        "plt.title('Feature Importance Plot')\n",
        "plt.show()"
      ],
      "metadata": {
        "colab": {
          "base_uri": "https://localhost:8080/",
          "height": 531
        },
        "id": "coE-qqR11NOq",
        "outputId": "c5155f06-e25c-48c4-ddff-713f465c2fbf"
      },
      "execution_count": null,
      "outputs": [
        {
          "output_type": "stream",
          "name": "stdout",
          "text": [
            "Feature Importance: [0.         0.06926252 0.         0.         0.01992673 0.0178256\n",
            " 0.         0.10152852 0.0592247  0.01448986 0.01849122 0.\n",
            " 0.         0.04465856 0.0304841  0.06579934 0.         0.\n",
            " 0.02563839 0.         0.         0.08322844 0.03098204 0.14120235\n",
            " 0.0648929  0.01202091 0.05210853 0.07018233 0.07805295 0.        ]\n"
          ]
        },
        {
          "output_type": "display_data",
          "data": {
            "text/plain": [
              "<Figure size 1000x600 with 1 Axes>"
            ],
            "image/png": "[encoded data removed]"
          },
          "metadata": {}
        }
      ]
    },
    {
      "cell_type": "code",
      "source": [
        "#Q-22>>\n",
        "#Using same dataset\n",
        "from sklearn.model_selection import learning_curve\n",
        "gbr = GradientBoostingRegressor(n_estimators = 100,random_state = 1)\n",
        "gbr.fit(X_train,y_train)\n",
        "train_sizes, train_scores, test_scores = learning_curve(\n",
        "    model, X, y, cv=5, scoring='neg_mean_squared_error', train_sizes=np.linspace(0.1, 1.0, 10)\n",
        ")\n",
        "train_scores_mean = -np.mean(train_scores, axis=1)\n",
        "train_scores_std = np.std(train_scores, axis=1)\n",
        "test_scores_mean = -np.mean(test_scores, axis=1)\n",
        "test_scores_std = np.std(test_scores, axis=1)\n",
        "plt.figure(figsize=(10, 6))\n",
        "plt.title(\"Learning Curves (Gradient Boosting Regressor)\")\n",
        "plt.xlabel(\"Training Examples\")\n",
        "plt.ylabel(\"Score\")\n",
        "plt.grid()\n",
        "plt.fill_between(\n",
        "    train_sizes,\n",
        "    train_scores_mean - train_scores_std,\n",
        "    train_scores_mean + train_scores_std,\n",
        "    alpha=0.1,\n",
        "    color=\"r\",\n",
        ")\n",
        "plt.fill_between(\n",
        "    train_sizes,\n",
        "    test_scores_mean - test_scores_std,\n",
        "    test_scores_mean + test_scores_std,\n",
        "    alpha=0.1,\n",
        "    color=\"g\",\n",
        ")\n",
        "plt.plot(train_sizes, train_scores_mean, \"o-\", color=\"r\", label=\"Training score\")\n",
        "plt.plot(train_sizes, test_scores_mean, \"o-\", color=\"g\", label=\"Cross-validation score\")\n",
        "plt.legend(loc=\"best\")\n",
        "plt.show()"
      ],
      "metadata": {
        "id": "wRdmWgZz2QMF"
      },
      "execution_count": null,
      "outputs": []
    },
    {
      "cell_type": "code",
      "source": [
        "#Q-23>>\n",
        "#using above same data\n",
        "xgr=XGBClassifier(n_estimators=100,random_state=1)\n",
        "xgr.fit(X_train,y_train)\n",
        "feature_importance = xgr.feature_importances_\n",
        "print(\"Feature Importance:\", feature_importance)\n",
        "plt.figure(figsize=(10, 6))\n",
        "sns.barplot(x=feature_importance, y=data.feature_names)\n",
        "plt.xlabel('Feature Importance')\n",
        "plt.ylabel('Features')\n",
        "plt.title('Feature Importance Plot')\n",
        "plt.show()"
      ],
      "metadata": {
        "id": "DeOowYjd248U"
      },
      "execution_count": null,
      "outputs": []
    },
    {
      "cell_type": "code",
      "source": [
        "\n",
        "\n",
        "#Q-24>>\n",
        "#using same sbove dataset\n",
        "from sklearn.metrics import confusion_matrix\n",
        "cbc = CatBoostClassifier(n_estimators = 100,random_state = 1)\n",
        "cbc.fit(X_train,y_train)\n",
        "y_pred = cbc.predict(X_test)\n",
        "cfm = confusion_matrix(y_test,y_pred)\n",
        "print(cfm)\n",
        "plt.figure(figsize=(10,10))\n",
        "sns.heatmap(cfm,annot = True,fmt = 'd',cmap = 'Blues')\n",
        "plt.xlabel('Predicted')\n",
        "plt.ylabel('Actual')\n",
        "plt.title('Confusion Matrix')\n",
        "plt.show()"
      ],
      "metadata": {
        "id": "Xlj0yJ3hArs3"
      },
      "execution_count": null,
      "outputs": []
    },
    {
      "cell_type": "code",
      "source": [
        "#Q-25>>\n",
        "#using same dataset\n",
        "n_estimators = [10,50,100,200,500]\n",
        "for i in n_estimators:\n",
        "  abc = AdaBoostClassifier(n_estimators =i,random_state = 1 )\n",
        "  abc.fit(X_train,y_train)\n",
        "  y_pred = abc.predict(X_test)\n",
        "  accuracy = accuracy_score(y_test,y_pred)\n",
        "  print(f\"Accuracy for n_estimators = {i} is {accuracy}\")"
      ],
      "metadata": {
        "id": "UK_ol5nnDl9Z"
      },
      "execution_count": null,
      "outputs": []
    },
    {
      "cell_type": "code",
      "source": [
        "#Q-26>>\n",
        "#Using same dataset\n",
        "from sklearn.metrics import roc_curve\n",
        "gbc = GradientBoostingClassifier( n_estimators = 100,random_state = 1)\n",
        "gbc.fit(X_train,y_train)\n",
        "y_pred_proba= gbc.predict_proba(X_test)[:,1]\n",
        "fpr,tpr,thresholds = roc_curve(y_test,y_pred_proba)\n",
        "plt.figure(figsize=(10,10))\n",
        "plt.plot(fpr,tpr,color = 'red')\n",
        "plt.plot([0,1],[0,1],color = 'navy',linestyle = '--')\n",
        "plt.xlabel('False Positive Rate')\n",
        "plt.ylabel('True Positive Rate')\n",
        "plt.title('ROC Curve')\n",
        "plt.show()"
      ],
      "metadata": {
        "id": "nU9YAonvFwwr"
      },
      "execution_count": null,
      "outputs": []
    },
    {
      "cell_type": "code",
      "source": [
        "#Q-27>>\n",
        "#using same dataset\n",
        "from sklearn.model_selection import GridSearchCV\n",
        "xgbr = XGBRegressor(n_estimators = 100,random_state = 1)\n",
        "xgbr.fit(X_train,y_train)\n",
        "y_pred = xgbr.predict(X_test)\n",
        "param_grid = {\n",
        "    'n_estimators': [50, 100,200]\n",
        "}\n",
        "grid_search = GridSearchCV(estimator=xgbr, param_grid=param_grid, cv=5)\n",
        "grid_search.fit(X_train, y_train)\n",
        "best_params = grid_search.best_params_\n",
        "best_params"
      ],
      "metadata": {
        "id": "E5VMZAQRGogx"
      },
      "execution_count": null,
      "outputs": []
    },
    {
      "cell_type": "code",
      "source": [
        "#Q-28>>\n",
        "from sklearn.datasets import make_classification\n",
        "X,y = make_classification(n_samples = 1000,n_features = 20,random_state = 1)\n",
        "X_train,X_test,y_train,y_test = train_test_split(X,y,test_size = 0.2,random_state = 1)\n",
        "#Without weights\n",
        "cbc = CatBoostClassifier(n_estimators = 100,random_state = 1,verbose = 0)\n",
        "cbc.fit(X_train,y_train)\n",
        "y_pred = cbc.predict(X_test)\n",
        "accuracy = accuracy_score(y_test,y_pred)\n",
        "print(\"accuracy without weights\",accuracy)\n",
        "#with weights\n",
        "cbc = CatBoostClassifier(n_estimators = 100,random_state = 1,verbose = 0,class_weights = [0.1,0.9])\n",
        "cbc.fit(X_train,y_train)\n",
        "y_pred = cbc.predict(X_test)\n",
        "accuracy = accuracy_score(y_test,y_pred)\n",
        "print(\"accuracy with weights\",accuracy)"
      ],
      "metadata": {
        "id": "DPHYeoL5IQZH"
      },
      "execution_count": null,
      "outputs": []
    },
    {
      "cell_type": "code",
      "source": [
        "#Q-29>>\n",
        "#Using the same above dataset\n",
        "learning_rate = [0.01,0.1,1]\n",
        "for i in learning_rate:\n",
        "  abc = AdaBoostClassifier(n_estimators = 100,random_state = 1,learning_rate = i)\n",
        "  abc.fit(X_train,y_train)\n",
        "  y_pred = abc.predict(X_test)\n",
        "  accuracy = accuracy_score(y_test,y_pred)\n",
        "  print(f\"Learning Rate: {i}, Accuracy: {accuracy}\")"
      ],
      "metadata": {
        "id": "rKG8vxL-JS1Y",
        "colab": {
          "base_uri": "https://localhost:8080/"
        },
        "outputId": "2b4a9964-ffb5-47f2-be04-ed1655604ce3"
      },
      "execution_count": null,
      "outputs": [
        {
          "output_type": "stream",
          "name": "stdout",
          "text": [
            "Learning Rate: 0.01, Accuracy: 0.86\n",
            "Learning Rate: 0.1, Accuracy: 0.86\n",
            "Learning Rate: 1, Accuracy: 0.855\n"
          ]
        }
      ]
    },
    {
      "cell_type": "code",
      "source": [
        "#Q-30>>\n",
        "from sklearn.metrics import log_loss\n",
        "from sklearn.datasets import load_iris\n",
        "iris = load_iris()\n",
        "X = iris.data\n",
        "y = iris.target\n",
        "X_train,X_test,y_train,y_test = train_test_split(X,y,test_size = 0.2,random_state = 1)\n",
        "xgb = XGBClassifier(n_estimators = 100,random_state = 1)\n",
        "xgb.fit(X_train,y_train)\n",
        "y_pred_proba= xgb.predict_proba(X_test)\n",
        "log_loss = log_loss(y_test,y_pred_proba)\n",
        "print(f\"Log Loss: {log_loss}\")"
      ],
      "metadata": {
        "id": "H-6iiURIKFaB",
        "colab": {
          "base_uri": "https://localhost:8080/"
        },
        "outputId": "a3cc50a5-9f68-4f70-b317-f399669ad1f7"
      },
      "execution_count": null,
      "outputs": [
        {
          "output_type": "stream",
          "name": "stdout",
          "text": [
            "Log Loss: 0.42392601742785524\n"
          ]
        }
      ]
    }
  ]
}