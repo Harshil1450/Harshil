{
  "nbformat": 4,
  "nbformat_minor": 0,
  "metadata": {
    "colab": {
      "provenance": [],
      "include_colab_link": true
    },
    "kernelspec": {
      "name": "python3",
      "display_name": "Python 3"
    },
    "language_info": {
      "name": "python"
    }
  },
  "cells": [
    {
      "cell_type": "markdown",
      "metadata": {
        "id": "view-in-github",
        "colab_type": "text"
      },
      "source": [
        "<a href=\"https://colab.research.google.com/github/Harshil1450/Harshil/blob/main/Harshils%20assignment%2005.ipynb\" target=\"_parent\"><img src=\"https://colab.research.google.com/assets/colab-badge.svg\" alt=\"Open In Colab\"/></a>"
      ]
    },
    {
      "cell_type": "markdown",
      "source": [
        "1.What are the five key concepts of Object-Oriented Programming (OOP)?\n",
        "\n",
        "\n",
        "Object-Oriented Programming (OOP) is a way of organizing code around \"objects\" that combine data and actions.\n",
        "\n",
        "Here are the five main ideas:\n",
        "\n",
        "1. **Encapsulation**: Wrapping data and methods together, protecting some details from outside interference.\n",
        "2. **Abstraction**: Hiding complex details and showing only what's necessary.\n",
        "3. **Inheritance**: One class can reuse properties and methods from another class.\n",
        "4. **Polymorphism**: Using a single method in different ways for different objects.\n",
        "5. **Classes and Objects**: Classes are blueprints, and objects are the actual instances created from them."
      ],
      "metadata": {
        "id": "e5g-4bvOOXdP"
      }
    },
    {
      "cell_type": "markdown",
      "source": [
        "2.Write a Python class for a Car with attributes for make, model, and year. Include a method to display the car's information."
      ],
      "metadata": {
        "id": "zkXzTcvPObqi"
      }
    },
    {
      "cell_type": "code",
      "source": [
        "class Car:\n",
        "    def __init__(me, make, model, year):\n",
        "        me.make = make\n",
        "        me.model = model\n",
        "        me.year = year\n",
        "\n",
        "    def display_info(me):\n",
        "        print(f\"{me.year} {me.make} {me.model}\")\n",
        "\n",
        "my_car = Car(\"Toyota\", \"Fortuner\", 2020)\n",
        "my_car.display_info()\n"
      ],
      "metadata": {
        "colab": {
          "base_uri": "https://localhost:8080/"
        },
        "id": "uKPuL7-lObMY",
        "outputId": "33badcb6-aff4-434f-847c-ff8d36960667"
      },
      "execution_count": null,
      "outputs": [
        {
          "output_type": "stream",
          "name": "stdout",
          "text": [
            "2020 Toyota Etios\n"
          ]
        }
      ]
    },
    {
      "cell_type": "markdown",
      "source": [
        "3.Explain the difference between instance methods and class methods. Provide an example of each.\n",
        "Instance Methods:\n",
        "\n",
        "Operate on an instance of the class (an object).\n",
        "Have access to instance attributes (specific to each object).\n",
        "The first parameter is me, representing the instance.\n",
        "\n",
        "Class Methods:\n",
        "\n",
        "Bound to the class, not an individual instance.\n",
        "Work with class attributes (shared among all instances).\n",
        "The first parameter is cls, representing the class itself.\n",
        "Use the @classmethod decorator."
      ],
      "metadata": {
        "id": "MXDcpCv7Qx_L"
      }
    },
    {
      "cell_type": "code",
      "source": [
        "#Instance Method:\n",
        "\n",
        "class Car:\n",
        "    def __init__(me, make, model, year):\n",
        "        me.make = make\n",
        "        me.model = model\n",
        "        me.year = year\n",
        "\n",
        "    def display_info(me):\n",
        "        print(f\"{me.year} {me.make} {me.model}\")\n",
        "\n",
        "my_car = Car(\"Toyota\", \"Corolla\", 2020)\n",
        "my_car.display_info()"
      ],
      "metadata": {
        "colab": {
          "base_uri": "https://localhost:8080/"
        },
        "id": "KWtuYmZXR3V8",
        "outputId": "262993c5-1d4c-4f45-dc77-d80a8b63f9b2"
      },
      "execution_count": null,
      "outputs": [
        {
          "output_type": "stream",
          "name": "stdout",
          "text": [
            "2020 Toyota Corolla\n"
          ]
        }
      ]
    },
    {
      "cell_type": "code",
      "source": [
        "#Class Method:\n",
        "\n",
        "class Car:\n",
        "    num_wheels = 4\n",
        "\n",
        "    def __init__(me, make, model, year):\n",
        "        me.make = make\n",
        "        me.model = model\n",
        "        me.year = year\n",
        "\n",
        "    @classmethod\n",
        "    def wheels_info(me):\n",
        "        print(f\"All cars have {me.num_wheels} wheels\")\n",
        "\n",
        "Car.wheels_info()\n"
      ],
      "metadata": {
        "colab": {
          "base_uri": "https://localhost:8080/"
        },
        "id": "T45COcFZT2l_",
        "outputId": "de45b680-e8c4-400a-d9bd-856fd3104cd5"
      },
      "execution_count": null,
      "outputs": [
        {
          "output_type": "stream",
          "name": "stdout",
          "text": [
            "All cars have 4 wheels\n"
          ]
        }
      ]
    },
    {
      "cell_type": "markdown",
      "source": [
        "4.How does Python implement method overloading? Give an example.\n",
        "\n",
        "Python doesn't support traditional method overloading (i.e, defining multiple methods with the same name but different signatures) like other languages such as Java or C++. Instead, Python uses default parameters, variable-length arguments (args, kwargs), or conditional logic within a single method to mimic the behavior of overloading."
      ],
      "metadata": {
        "id": "wZMyG8pgTKKr"
      }
    },
    {
      "cell_type": "code",
      "source": [
        "class Calculator:\n",
        "    def add(self, a, b=0, c=0):\n",
        "        return a + b + c\n",
        "\n",
        "calc = Calculator()\n",
        "print(calc.add(10))\n",
        "print(calc.add(10, 20))\n",
        "print(calc.add(10, 20, 30))"
      ],
      "metadata": {
        "colab": {
          "base_uri": "https://localhost:8080/"
        },
        "id": "tuZ_p9sDWGjW",
        "outputId": "44bceb7f-6f78-4f32-954b-3827a0d3d1aa"
      },
      "execution_count": null,
      "outputs": [
        {
          "output_type": "stream",
          "name": "stdout",
          "text": [
            "10\n",
            "30\n",
            "60\n"
          ]
        }
      ]
    },
    {
      "cell_type": "markdown",
      "source": [
        "5.What are the three types of access modifiers in Python? How are they denoted?\n",
        "\n",
        "In Python, there are three types of access modifiers that control the visibility of class attributes and methods:\n",
        "\n",
        "Public:\n",
        "\n",
        "Denoted by no underscore prefix.\n",
        "Attributes and methods are accessible from outside the class.\n",
        "Example: self.attribute_name\n",
        "\n",
        "Protected:\n",
        "\n",
        "Denoted by a single underscore prefix (_).\n",
        "Indicates that the attribute or method is intended for internal use within the class and its subclasses.\n",
        "Example: self._attribute_name\n",
        "\n",
        "Private:\n",
        "\n",
        "Denoted by a double underscore prefix (__).\n",
        "Makes the attribute or method not directly accessible from outside the class.\n",
        "Example: self.__attribute_name\n",
        "Summary of Access Modifiers:\n",
        "\n",
        "Public: Accessible everywhere.\n",
        "Protected: Accessible within the class and subclasses.\n",
        "Private: Accessible only within the class itself."
      ],
      "metadata": {
        "id": "RbYk5TEEWPgN"
      }
    },
    {
      "cell_type": "markdown",
      "source": [
        "6.Describe the five types of inheritance in Python. Provide a simple example of multiple inheritance.\n",
        "\n",
        "**Single Inheritance**: Involves one class inheriting from a single parent class.\n",
        "\n",
        "**Multiple Inheritance**: A class can inherit from more than one parent class, combining attributes and methods from all parents.\n",
        "\n",
        "**Multilevel Inheritance**:\n",
        "A chain of inheritance where a class is derived from another derived class.\n",
        "\n",
        "**Hierarchical Inheritance**:\n",
        "Multiple child classes inherit from the same parent class.\n",
        "\n",
        "**Hybrid Inheritance**:\n",
        "A combination of two or more types of inheritance, usually involving multiple and hierarchical inheritance.\n",
        "\n",
        "\n"
      ],
      "metadata": {
        "id": "gKPD147ZXTbn"
      }
    },
    {
      "cell_type": "code",
      "source": [
        "# Single Inheritance\n",
        "class Parent:\n",
        "    def display(self):\n",
        "        print(\"This is the parent class.\")\n",
        "\n",
        "class Child(Parent):\n",
        "    def show(self):\n",
        "        print(\"This is the child class.\")\n",
        "\n",
        "# Multiple Inheritance\n",
        "class Father:\n",
        "    def skills(self):\n",
        "        print(\"Father's skills.\")\n",
        "\n",
        "class Mother:\n",
        "    def traits(self):\n",
        "        print(\"Mother's traits.\")\n",
        "\n",
        "class Child(Father, Mother):\n",
        "    def display(self):\n",
        "        print(\"Child class.\")\n",
        "\n",
        "# Example usage\n",
        "child = Child()\n",
        "child.skills()  # Output: Father's skills.\n",
        "child.traits()  # Output: Mother's traits.\n",
        "child.display()  # Output: Child class.\n",
        "\n",
        "# Multilevel Inheritance\n",
        "class Grandparent:\n",
        "    def heritage(self):\n",
        "        print(\"This is the grandparent class.\")\n",
        "\n",
        "class Parent(Grandparent):\n",
        "    def display(self):\n",
        "        print(\"This is the parent class.\")\n",
        "\n",
        "class Child(Parent):\n",
        "    def show(self):\n",
        "        print(\"This is the child class.\")\n",
        "\n",
        "# Hierarchical Inheritance\n",
        "class Base:\n",
        "    def base_method(self):\n",
        "        print(\"Base class method.\")\n",
        "\n",
        "class Derived1(Base):\n",
        "    def derived1_method(self):\n",
        "        print(\"Derived class 1 method.\")\n",
        "\n",
        "class Derived2(Base):\n",
        "    def derived2_method(self):\n",
        "        print(\"Derived class 2 method.\")\n",
        "\n",
        "# Example usage\n",
        "derived1 = Derived1()\n",
        "derived1.base_method()  # Output: Base class method.\n",
        "derived1.derived1_method()  # Output: Derived class 1 method.\n",
        "\n",
        "derived2 = Derived2()\n",
        "derived2.base_method()  # Output: Base class method.\n",
        "derived2.derived2_method()  # Output: Derived class 2 method.\n",
        "\n",
        "# Hybrid Inheritance\n",
        "class A:\n",
        "    def method_a(self):\n",
        "        print(\"Method A from class A.\")\n",
        "\n",
        "class B(A):\n",
        "    def method_b(self):\n",
        "        print(\"Method B from class B.\")\n",
        "\n",
        "class C(A):\n",
        "    def method_c(self):\n",
        "        print(\"Method C from class C.\")\n",
        "\n",
        "class D(B, C):\n",
        "    def method_d(self):\n",
        "        print(\"Method D from class D.\")\n",
        "\n",
        "# Example usage\n",
        "d = D()\n",
        "d.method_a()  # Output: Method A from class A.\n",
        "d.method_b()  # Output: Method B from class B.\n",
        "d.method_c()  # Output: Method C from class C.\n",
        "d.method_d()  # Output: Method D from class D.\n"
      ],
      "metadata": {
        "id": "SfDTVU_DaWL1"
      },
      "execution_count": null,
      "outputs": []
    },
    {
      "cell_type": "markdown",
      "source": [
        "7. What is the Method Resolution Order (MRO) in Python? How can you retrieve it programmatically?\n",
        "\n",
        "Method Resolution Order (MRO) in Python is the order in which base classes are searched when looking for a method. It determines the hierarchy of classes that Python follows when calling methods or accessing attributes, especially in cases of multiple inheritance.\n",
        "\n",
        "You can retrieve the MRO programmatically using the mro() method or the __mro__ attribute of a class."
      ],
      "metadata": {
        "id": "edtoVHJqZdrl"
      }
    },
    {
      "cell_type": "code",
      "source": [
        "class A:\n",
        "    pass\n",
        "\n",
        "class B(A):\n",
        "    pass\n",
        "\n",
        "class C(A):\n",
        "    pass\n",
        "\n",
        "class D(B, C):\n",
        "    pass\n",
        "\n",
        "# Retrieve MRO\n",
        "print(D.mro())         # Output: [<class '__main__.D'>, <class '__main__.B'>, <class '__main__.C'>, <class '__main__.A'>, <class 'object'>]\n",
        "print(D.__mro__)       # Output: (<class '__main__.D'>, <class '__main__.B'>, <class '__main__.C'>, <class '__main__.A'>, <class 'object'>)\n"
      ],
      "metadata": {
        "id": "RH_moiyQacpo"
      },
      "execution_count": null,
      "outputs": []
    },
    {
      "cell_type": "markdown",
      "source": [
        "8.Create an abstract base class `Shape` with an abstract method `area()`. Then create two subclasses\n"
      ],
      "metadata": {
        "id": "oqxlPwC2ad4X"
      }
    },
    {
      "cell_type": "code",
      "source": [
        "from abc import ABC, abstractmethod\n",
        "\n",
        "# Abstract Base Class\n",
        "class Shape(ABC):\n",
        "    @abstractmethod\n",
        "    def area(self):\n",
        "        pass\n",
        "\n",
        "# Circle subclass\n",
        "class Circle(Shape):\n",
        "    def __init__(self, radius):\n",
        "        self.radius = radius\n",
        "\n",
        "    def area(self):\n",
        "        return 3.14 * self.radius ** 2\n",
        "\n",
        "# Rectangle subclass\n",
        "class Rectangle(Shape):\n",
        "    def __init__(self, width, height):\n",
        "        self.width = width\n",
        "        self.height = height\n",
        "\n",
        "    def area(self):\n",
        "        return self.width * self.height\n",
        "\n",
        "# Example usage\n",
        "circle = Circle(5)\n",
        "rectangle = Rectangle(4, 6)\n",
        "\n",
        "print(circle.area())      # Output: 78.5\n",
        "print(rectangle.area())   # Output: 24\n"
      ],
      "metadata": {
        "id": "ASxGH7mOapvv"
      },
      "execution_count": null,
      "outputs": []
    },
    {
      "cell_type": "markdown",
      "source": [
        "9.Demonstrate polymorphism by creating a function that can work with different shape objects to calculate and print their areas."
      ],
      "metadata": {
        "id": "SIDYQZuXa8Dm"
      }
    },
    {
      "cell_type": "code",
      "source": [
        "from abc import ABC, abstractmethod\n",
        "\n",
        "class Shape(ABC):\n",
        "    @abstractmethod\n",
        "    def area(self):\n",
        "        pass\n",
        "\n",
        "class Circle(Shape):\n",
        "    def __init__(self, radius):\n",
        "        self.radius = radius\n",
        "\n",
        "    def area(self):\n",
        "        return 3.14 * self.radius ** 2\n",
        "\n",
        "class Rectangle(Shape):\n",
        "    def __init__(self, width, height):\n",
        "        self.width = width\n",
        "        self.height = height\n",
        "\n",
        "    def area(self):\n",
        "        return self.width * self.height\n",
        "\n",
        "def print_area(shape: Shape):\n",
        "    print(f\"Area: {shape.area()}\")\n",
        "\n",
        "# Example usage\n",
        "shapes = [Circle(5), Rectangle(4, 6)]\n",
        "\n",
        "for shape in shapes:\n",
        "    print_area(shape)\n"
      ],
      "metadata": {
        "id": "iKuQ_xdUbEor"
      },
      "execution_count": null,
      "outputs": []
    },
    {
      "cell_type": "markdown",
      "source": [
        "10.Implement encapsulation in a BankAccount class with private attributes for balance and account_number. Include methods for deposit, withdrawal, and balance inquiry"
      ],
      "metadata": {
        "id": "JV82wctlbQbP"
      }
    },
    {
      "cell_type": "code",
      "source": [
        "class BankAccount:\n",
        "    def __init__(self, account_number, initial_balance=0):\n",
        "        self.__account_number = account_number\n",
        "        self.__balance = initial_balance\n",
        "\n",
        "    def deposit(self, amount):\n",
        "        self.__balance += amount\n",
        "\n",
        "    def withdraw(self, amount):\n",
        "        if amount <= self.__balance:\n",
        "            self.__balance -= amount\n",
        "        else:\n",
        "            print(\"Insufficient funds\")\n",
        "\n",
        "    def get_balance(self):\n",
        "        return self.__balance\n",
        "\n",
        "# Example usage\n",
        "account = BankAccount(\"123456\", 1000)\n",
        "account.deposit(500)\n",
        "account.withdraw(200)\n",
        "print(account.get_balance())  # Output: 1300\n"
      ],
      "metadata": {
        "id": "Z_J0C5pmbW9Y"
      },
      "execution_count": null,
      "outputs": []
    },
    {
      "cell_type": "markdown",
      "source": [
        "11.Write a class that overrides the __str__ and __add__ magic methods. What will these methods allow you to do?"
      ],
      "metadata": {
        "id": "-wLucGDmbdlh"
      }
    },
    {
      "cell_type": "code",
      "source": [
        "class Point:\n",
        "    def __init__(self, x, y):\n",
        "        self.x = x\n",
        "        self.y = y\n",
        "\n",
        "    def __str__(self):\n",
        "        return f\"Point({self.x}, {self.y})\"\n",
        "\n",
        "    def __add__(self, other):\n",
        "        return Point(self.x + other.x, self.y + other.y)\n",
        "\n",
        "# Example usage\n",
        "point1 = Point(2, 3)\n",
        "point2 = Point(5, 7)\n",
        "\n",
        "print(point1)        # Output: Point(2, 3)\n",
        "point3 = point1 + point2\n",
        "print(point3)       # Output: Point(7, 10)\n",
        "\n",
        "# __str__: Defines string representation for printing.\n",
        "# __add__: Enables adding two Point objects with + operator.\n"
      ],
      "metadata": {
        "id": "H0ZN9Eq_bnpm"
      },
      "execution_count": null,
      "outputs": []
    },
    {
      "cell_type": "markdown",
      "source": [
        "12.Create a decorator that measures and prints the execution time of a function."
      ],
      "metadata": {
        "id": "7QwbYRX-cRl0"
      }
    },
    {
      "cell_type": "code",
      "source": [
        "import time\n",
        "\n",
        "def timing_decorator(func):\n",
        "    def wrapper(*args, **kwargs):\n",
        "        start = time.time()\n",
        "        result = func(*args, **kwargs)\n",
        "        print(f\"Execution time: {time.time() - start:.4f} seconds\")\n",
        "        return result\n",
        "    return wrapper\n",
        "\n",
        "@timing_decorator\n",
        "def example_function(n):\n",
        "    return sum(range(n))\n",
        "\n",
        "example_function(1000000)  # Prints execution time\n"
      ],
      "metadata": {
        "id": "rej-jl7rcYD6"
      },
      "execution_count": null,
      "outputs": []
    },
    {
      "cell_type": "markdown",
      "source": [
        "13.Explain the concept of the Diamond Problem in multiple inheritance. How does Python resolve it?\n",
        "\n",
        "The Diamond Problem is a common issue that arises in multiple inheritance scenarios, particularly in object-oriented programming languages like Python. It occurs when a class inherits from two classes that have a common ancestor, leading to ambiguity about which parent class's methods or attributes should be used.\n",
        "\n",
        "key points :- on How Python Resolves the Diamond Problem: Method Resolution Order (MRO):\n",
        "\n",
        "Python defines a specific order in which classes are searched when looking for a method or attribute. The MRO can be viewed using the mro attribute or the mro() method. Left-to-Right Depth-First Search:\n",
        "\n",
        "The MRO considers the order of inheritance from left to right and ensures that classes are not repeated. The algorithm prioritizes the order in which classes are defined to maintain a consistent resolution path"
      ],
      "metadata": {
        "id": "E-cAK3zKcseU"
      }
    },
    {
      "cell_type": "code",
      "source": [
        "class A:\n",
        "    def greet(self):\n",
        "        return \"Hello from A\"\n",
        "\n",
        "class B(A):\n",
        "    def greet(self):\n",
        "        return \"Hello from B\"\n",
        "\n",
        "class C(A):\n",
        "    def greet(self):\n",
        "        return \"Hello from C\"\n",
        "\n",
        "class D(B, C):\n",
        "    pass\n",
        "\n",
        "# Creating an instance of D\n",
        "d = D()\n",
        "print(d.greet())\n",
        "\n",
        "# Checking the Method Resolution Order\n",
        "print(D.mro())\n"
      ],
      "metadata": {
        "id": "rJJp4ESzc-ZN"
      },
      "execution_count": null,
      "outputs": []
    },
    {
      "cell_type": "markdown",
      "source": [
        "14.Write a class method that keeps track of the number of instances created from a class."
      ],
      "metadata": {
        "id": "T2OHnN5ndias"
      }
    },
    {
      "cell_type": "code",
      "source": [
        "class InstanceCounter:\n",
        "    instance_count = 0\n",
        "\n",
        "    def __init__(self):\n",
        "        InstanceCounter.instance_count += 1\n",
        "\n",
        "    @classmethod\n",
        "    def get_instance_count(cls):\n",
        "        return cls.instance_count\n",
        "\n",
        "# Example usage\n",
        "if __name__ == \"__main__\":\n",
        "    InstanceCounter()\n",
        "    InstanceCounter()\n",
        "    print(InstanceCounter.get_instance_count())  # Output: 2"
      ],
      "metadata": {
        "id": "E6xApiM1eIod"
      },
      "execution_count": null,
      "outputs": []
    },
    {
      "cell_type": "markdown",
      "source": [
        "15. Implement a static method in a class that checks if a given year is a leap year."
      ],
      "metadata": {
        "id": "kI3jasDCegJC"
      }
    },
    {
      "cell_type": "code",
      "source": [
        "class YearChecker:\n",
        "    @staticmethod\n",
        "    def is_leap_year(year):\n",
        "        if (year % 4 == 0 and year % 100 != 0) or (year % 400 == 0):\n",
        "            return True\n",
        "        return False\n",
        "\n",
        "# Example usage\n",
        "year = 2024\n",
        "is_leap = YearChecker.is_leap_year(year)\n",
        "\n",
        "# Explanation output\n",
        "if is_leap:\n",
        "    print(f\"{year} is a leap year.\")\n",
        "else:\n",
        "    print(f\"{year} is not a leap year.\")\n"
      ],
      "metadata": {
        "colab": {
          "base_uri": "https://localhost:8080/"
        },
        "id": "7hy4FIhden2O",
        "outputId": "2ca1d3cf-20c9-4491-85f0-715919828930"
      },
      "execution_count": null,
      "outputs": [
        {
          "output_type": "stream",
          "name": "stdout",
          "text": [
            "2024 is a leap year.\n"
          ]
        }
      ]
    }
  ]
}